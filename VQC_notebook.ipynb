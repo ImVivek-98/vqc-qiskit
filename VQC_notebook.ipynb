{
 "cells": [
  {
   "cell_type": "markdown",
   "metadata": {},
   "source": [
    "<img src=\"https://s3-ap-southeast-1.amazonaws.com/he-public-data/wordmark_black65ee464.png\" width=\"700\">"
   ]
  },
  {
   "cell_type": "markdown",
   "metadata": {},
   "source": [
    "# Variational Quantum Classifier"
   ]
  },
  {
   "cell_type": "markdown",
   "metadata": {},
   "source": [
    "## Contents\n",
    "\n",
    "1. [Introduction](#intro)    \n",
    "    1.1  [Data Pre-Processing](#pre-process)\n",
    "2. [Classification on a Quantum Computer](#vqc)    \n",
    "    2.1 [Loading Data onto the Quantum Computer](#feature-maps)    \n",
    "    2.2 [Building the Circuit that Classifies](#var-forms)      \n",
    "    2.3 [Measurement and Assigning a Binary Label](#validate)      \n",
    "    2.4 [Classical optimization loop](#classical-optimization)    \n",
    "3. [Classifying Digits 0 and 1](#full)\n"
   ]
  },
  {
   "cell_type": "markdown",
   "metadata": {},
   "source": [
    "## 1. Introduction <a id=\"intro\"></a>"
   ]
  },
  {
   "cell_type": "markdown",
   "metadata": {},
   "source": [
    "### 1.1 Data Pre-Processing <a id=\"pre-process\"></a>"
   ]
  },
  {
   "cell_type": "markdown",
   "metadata": {},
   "source": [
    "Similar to classical machine learning we employ various pre-processing techniques on the classical dataset before its fed into the quantum computer. This helps us work with larger and more complex datasets with the quantum computers we have today. The dataset we're going to work with today will be a subset of the popular handwritten digits dataset, the **[MNIST](http://yann.lecun.com/exdb/mnist/) dataset**. You can read more about it on the wikipedia page [here](https://en.wikipedia.org/wiki/MNIST_database)."
   ]
  },
  {
   "cell_type": "code",
   "execution_count": 1,
   "metadata": {},
   "outputs": [],
   "source": [
    "# installing a few dependencies\n",
    "!pip install --upgrade seaborn==0.10.1\n",
    "!pip install --upgrade scikit-learn==0.23.1\n",
    "!pip install --upgrade matplotlib==3.2.0\n",
    "!pip install --upgrade pandas==1.0.4\n",
    "!pip install --upgrade qiskit==0.19.6 \n",
    "\n",
    "# the output will be cleared after installation\n",
    "from IPython.display import clear_output\n",
    "clear_output()"
   ]
  },
  {
   "cell_type": "markdown",
   "metadata": {},
   "source": [
    "Lets start by importing the dataset which you can download [here](http://yann.lecun.com/exdb/mnist/) or use the one present in the directory in a .csv file format.\n",
    "\n",
    "**IMPORTANT:**\n",
    "* If you are using this notebook by cloning the repo Qiskit-Challenge-India/2020 you will have to first **unzip the dataset `mnist_train.csv.zip` to `mnist_train.csv`** before you can run the code below."
   ]
  },
  {
   "cell_type": "code",
   "execution_count": 3,
   "metadata": {},
   "outputs": [],
   "source": [
    "# importing some useful modules\n",
    "import numpy as np\n",
    "%matplotlib inline\n",
    "import matplotlib.pyplot as plt\n",
    "\n",
    "image_size = 28 # width and length are equal\n",
    "\n",
    "# Working directory:\n",
    "\n",
    "#- VQC_notebook.ipynb\n",
    "#- dataset\n",
    "#----mnist_train.csv\n",
    "#----mnist_test.csv\n",
    "\n",
    "# In case our working directory is not in the same confirguration as given above, change the data_path variable to point to the dataset\n",
    "data_path = \"./dataset/\"\n",
    "train_data = np.loadtxt(data_path + \"mnist_train.csv\", delimiter=\",\")\n",
    "test_data = np.loadtxt(data_path + \"mnist_test.csv\", delimiter=\",\") "
   ]
  },
  {
   "cell_type": "code",
   "execution_count": 9,
   "metadata": {
    "scrolled": true
   },
   "outputs": [
    {
     "name": "stdout",
     "output_type": "stream",
     "text": [
      "Number of training datapoints: 60000\n",
      "Number of testing datapoints: 10000\n"
     ]
    }
   ],
   "source": [
    "print(\"Number of training datapoints: {}\".format(train_data.shape[0]))\n",
    "print(\"Number of testing datapoints: {}\".format(test_data.shape[0]))"
   ]
  },
  {
   "cell_type": "markdown",
   "metadata": {},
   "source": [
    "Before we move forward lets take a closer look at the structure of the training dataset:\n",
    "\n",
    "* There are a total of **60,000 datapoints** (rows in train_data) corresponding to digits ranging from `0` to `9`\n",
    "* The first column has the **label** of the datapoint ranging from `0` to `9`\n",
    "* The next 784 columns/features are each a 28 $\\times$ 28 grayscale image collapsed into a row. Therefore, the **dimension of the data is 784**. Each of these values range from 0 to 275 where **0 corresponds to white** and **255 corresponds to black**\n",
    "\n",
    "The testing dataset is also of the same format with just lesser datapoints. \n",
    "\n",
    "Here's an example of a datapoint with label `0`. "
   ]
  },
  {
   "cell_type": "code",
   "execution_count": 5,
   "metadata": {},
   "outputs": [
    {
     "data": {
      "image/png": "[encoded data removed]",
      "text/plain": [
       "<Figure size 432x288 with 1 Axes>"
      ]
     },
     "metadata": {
      "needs_background": "light"
     },
     "output_type": "display_data"
    }
   ],
   "source": [
    "img = train_data[:, 1:][1].reshape((image_size, image_size))\n",
    "plt.imshow(img, cmap=\"Greys\")\n",
    "plt.show()"
   ]
  },
  {
   "cell_type": "markdown",
   "metadata": {},
   "source": [
    "As we will learn in the next section, dimension of the data is equal to the number of qubits we require to encode the data for the quantum feature maps we will use. As quantum computers or simulators today generally cannot work with large number of qubits, encoding data with dimension 784 is not possible. Hence, we resort to **classical dimensionality reduction techniques**. Precisely, we apply *truncated Singular Value Decomposition (SVD)* and *t-distributed stochastic neighbor embedding (t-SNE)* methods which are dimension reduction techniques to reduce the dimension down to 2 for the sake of this example. Knowledge of SVD and t-SNE is not required going forward and these dimensionality reduction methods are given only for your reference. The choice of these specific dimensionality reduction techniques has been adapted from [this](http://www.cse.chalmers.se/~richajo/dit866/lectures/l9/MNIST%20dimensionality%20reduction.html) resource and tweaking it for our specific problem. If you'd like to learn more about dimensionality reduction for the MNIST dataset you can read [Colah's blog](https://colah.github.io/posts/2014-10-Visualizing-MNIST/).\n",
    "\n",
    "As the number of training and testing samples we require will be very less, we only work with the training dataset going forward and extract training, testing and validation datasets from it when required. As we don't need a lot of training datapoints and t-SNE is computationally expensive we will only apply t-SNE on the first 10,000 datapoints. Note that as we develop larger quantum hardware in the future, the need for expensive classical pre-processing steps will be reduced."
   ]
  },
  {
   "cell_type": "code",
   "execution_count": 10,
   "metadata": {},
   "outputs": [],
   "source": [
    "# Extracting the features and labels from the dataset and shortening the dataset to 10,000 datapoints\n",
    "train_data_features = train_data[:10000, 1:]\n",
    "train_data_labels = train_data[:10000, :1].reshape(10000,)"
   ]
  },
  {
   "cell_type": "code",
   "execution_count": 11,
   "metadata": {},
   "outputs": [],
   "source": [
    "from sklearn.decomposition import TruncatedSVD\n",
    "from sklearn.manifold import TSNE\n",
    "\n",
    "# Using SVD to bring down the dimension to 10\n",
    "tsvd = TruncatedSVD(n_components=10)\n",
    "X_SVD = tsvd.fit_transform(train_data_features)\n",
    "\n",
    "# Further using t-SNE to bring the dimension down to 2\n",
    "np.random.seed(0)\n",
    "tsne = TSNE(n_components=2)\n",
    "train_data_features_reduced = tsne.fit_transform(X_SVD)"
   ]
  },
  {
   "cell_type": "code",
   "execution_count": 12,
   "metadata": {},
   "outputs": [
    {
     "name": "stdout",
     "output_type": "stream",
     "text": [
      "Dimension of the reduced dataset: 2\n"
     ]
    }
   ],
   "source": [
    "print(\"Dimension of the reduced dataset: {}\".format(train_data_features_reduced.shape[1]))"
   ]
  },
  {
   "cell_type": "markdown",
   "metadata": {},
   "source": [
    "Lets plot out the dataset to see if the labels are interpretable, i.e show some sort of clustering in the reduced dataset. For this we are creating a pandas dataframe and using seaborn to plot the data. "
   ]
  },
  {
   "cell_type": "code",
   "execution_count": 13,
   "metadata": {},
   "outputs": [],
   "source": [
    "import seaborn as sns\n",
    "import pandas as pd\n",
    "\n",
    "# function to help plot the 2-D dataset\n",
    "def plot2d(X, Y, c1, c2, N):\n",
    "    lbl1 = f'Component {c1}'\n",
    "    lbl2 = f'Component {c2}'    \n",
    "    df = pd.DataFrame({lbl1:X[:N,c1], lbl2:X[:N,c2], 'label':Y[:N]})\n",
    "    sns.lmplot(data=df, x=lbl1, y=lbl2, fit_reg=False, hue='label', scatter_kws={'alpha':0.5})   "
   ]
  },
  {
   "cell_type": "code",
   "execution_count": 14,
   "metadata": {},
   "outputs": [
    {
     "data": {
      "image/png": "[encoded data removed]",
      "text/plain": [
       "<Figure size 412x360 with 1 Axes>"
      ]
     },
     "metadata": {
      "needs_background": "light"
     },
     "output_type": "display_data"
    }
   ],
   "source": [
    "plot2d(train_data_features_reduced, train_data_labels, 0, 1, N=2000)"
   ]
  },
  {
   "cell_type": "markdown",
   "metadata": {},
   "source": [
    "As we can see, datapoints corresponding to labels such as `0` and `1` are well separated, however, ambiguous datapoints such as those corresponding to `4` and `9` are overlapping. This makes sense as even when observed by a naked eye `0` and `1` are easily distinguishable however `4` and `9` may not always be as they both have a vertical line towards the bottom and a loop-like structure on top. \n",
    "\n",
    "Though there are methods to convert SVMs into multiclass classifiers they are inherently binary classifiers. Thus, we will start by extracting datapoints corresponsing to the digits `0` and `1` from the reduced dataset and normalize their features to be between 0 and 2. Normalization is done as the values will be inserted into the quantum feature map as angles in radians. You can try different normalizations and see how it changes our output, however, during the final challenge a pre-normalised dataset will be provided to you.  "
   ]
  },
  {
   "cell_type": "code",
   "execution_count": 15,
   "metadata": {},
   "outputs": [],
   "source": [
    "zero_datapoints = []\n",
    "one_datapoints = []\n",
    "for i in range(10000):\n",
    "    if train_data_labels[i] == 0:                   # extracting zeros\n",
    "        zero_datapoints.append(train_data_features_reduced[i])\n",
    "\n",
    "for i in range(10000):\n",
    "    if train_data_labels[i] == 1:                   # extracting ones\n",
    "        one_datapoints.append(train_data_features_reduced[i])\n",
    "        \n",
    "zero_datapoints = np.array(zero_datapoints)\n",
    "one_datapoints = np.array(one_datapoints)\n",
    "\n",
    "def normalize(arr, max_val, n):\n",
    "    a = np.divide(arr, max_val)\n",
    "    return a + n\n",
    "\n",
    "zero_datapoints_normalized = normalize(zero_datapoints, 100, 1)\n",
    "one_datapoints_normalized = normalize(one_datapoints, 100, 1)"
   ]
  },
  {
   "cell_type": "markdown",
   "metadata": {},
   "source": [
    "## 2. Classification on a Quantum Computer <a id=\"vqc\"></a>\n",
    "\n",
    "There are multiple methods for classifying a dataset using a quantum computer, however, today we will concentrate on a method called the **Variational Quantum Classifier (VQC)** as proposed in the paper [Havlicek et.al](https://arxiv.org/abs/1804.11326) [1]. The paper also proposes another method called the the **Kernel Estimation Method** which may be interesting for those curious. \n",
    "\n",
    "Similar to classical machine learning the VQC algorithm has a **training stage** (where datapoints with labels are provided and learning takes place) and a **testing stage** (where new datapoints without labels are provided which are then classified). Each of these stages in VQC are a four step process: \n",
    "\n",
    "* **Loading Data onto the Quantum Computer** (Apply Feature Map)\n",
    "* **Building the Circuit that Classifies** (Variational Circuit) \n",
    "* **Measurement and Assigning a Binary Label**\n",
    "* Assign binary label\n",
    "\n",
    "![vqc](./images/vqc.png)"
   ]
  },
  {
   "cell_type": "markdown",
   "metadata": {},
   "source": [
    "Through the course of this notebook we will look at each of these steps and gain an understanding on how the VQC algorithm works using the inbuilt `VQC` algorithm in Qiskit Aqua. Further, we will look at how we can use the `VQC` class in Qiskit Aqua to classify `0`'s and `1`'s along with customization of the algorithm to your needs. "
   ]
  },
  {
   "cell_type": "markdown",
   "metadata": {},
   "source": [
    "### 2.1 Loading Data onto the Quantum Computer <a id=\"feature-maps\"></a>\n",
    "\n",
    "Check out the qiskit-community tutorial on custom feature maps [here](https://github.com/qiskit-community/qiskit-community-tutorials/blob/master/machine_learning/custom_feature_map.ipynb) from which this section has been adapted. It has a few extra details on how to configure a custom `data map function` $\\phi_S$ which might be interesting when working with the inbuilt **quantum feature maps** (or Data Encoding Circuits) in Qiskit. \n",
    "\n",
    "The idea of quantum feature maps comes from the theory of kernels in classical machine learning where a dataset is mapped non-linearly onto a higher dimensional space where a hyperplane can be found that classifies it. \n",
    "\n",
    "As the name suggests, a **quantum feature map $\\phi(\\vec{x})$** is a map from the classical feature vector $\\vec{x}$ to the quantum state $|\\Phi(\\vec{x})\\rangle\\langle\\Phi(\\vec{x})|$, a vector in Hilbert space. This is faciliated by applying the unitary operation $\\mathcal{U}_{\\Phi(\\vec{x})}$ on the initial state $|0\\rangle^{n}$ where _n_ is the number of qubits being used for encoding. By doing this process we have now blown up the dimension of our feature space and the task of our classifier is to find a separating hyperlane in this new space.\n",
    "\n",
    "Constructing feature maps based on quantum circuits that are hard to simulate classically is an important step towards obtaining a quantum advantage over classical approaches. The authors of [[1]](https://arxiv.org/abs/1804.11326) proposed a family of feature maps that is conjectured (recently proved by another group) to be hard to simulate classically and that can be implemented as short-depth circuits on near-term quantum devices. The quantum feature map of depth $d$ is implemented by the unitary operator \n",
    "\n",
    "$$ \\mathcal{U}_{\\Phi(\\mathbf{x})}=\\prod_d U_{\\Phi(\\mathbf{x})}H^{\\otimes n},\\ U_{\\Phi(\\mathbf{x})}=\\exp\\left(i\\sum_{S\\subseteq[n]}\\phi_S(\\mathbf{x})\\prod_{k\\in S} P_k\\right) $$\n",
    "\n",
    "which contains layers of Hadamard gates interleaved with entangling blocks encoding the classical data as shown in circuit diagram below for $d=2$.\n",
    "\n",
    "<img src=\"./images/uphi.PNG\" width=\"400\" />\n",
    "\n",
    "The number of qubits $n$ in the quantum circuit is equal to the dimensionality of the classical data $\\mathbf{x}$ in these feature encodings, which are encoded through the coefficients $\\phi_S(\\mathbf{x})$, where $S \\subseteq[n] = \\{1, \\ldots, n \\}$. We call the $r$-th order expansion the feature map of this circuit family when $|S|\\leq r$. In Terra, the default is the second order expansion $|S|\\leq 2$ used in [[1]](https://arxiv.org/abs/1804.11326), which gives $n$ singeltons $S=\\{i\\}$ and, depending on the connectivity graph of the quantum device, up to $\\frac{n(n-1)}{2}$ couples to encode entangling interactions. The greater the upper bound $r$, the more interactions will be taken into account.\n",
    "\n",
    "Only contributions from $Z$ and $ZZ$ gates in the entangling blocks are considered in [[1]](https://arxiv.org/abs/1804.11326). In general, the blocks can be expressed in terms of the Pauli gates $P_k \\in \\{\\mathbb{1}_k, X_k, Y_k, Z_k \\}$.\n",
    "\n",
    "In the Terra circuit library, the circuit depth $d$, coefficients $\\phi_S$, entanglement, and gates $P_k$ are mutable for Variational Quantum Classifier. As discussed in [[1]](https://arxiv.org/abs/1804.11326), the depth $d=1$ circuit can be efficiently simulated classically by uniform sampling, while the $d=2$ variant is conjectured to be hard to simulate classically."
   ]
  },
  {
   "cell_type": "markdown",
   "metadata": {},
   "source": [
    "### Using Feature Maps from the Terra Circuit Library\n",
    "\n",
    "We will now learn how to configure inbuilt quantum feature maps in Qiskit Terra by modifing the `circuit depth` $d$, `entanglement`, and gates $P_k$. Documentation on the quantum feature maps in Terra can be found in the [Circuit Library](https://qiskit.org/documentation/apidoc/circuit_library.html) under the \"Data Encoding Circuits\" section. \n",
    "\n",
    "We'll see how to build quantum feature maps inbuilt in Qiskit and a method to build your own custom feature map. A feature map is essentially a variational circuit and Qiskit Terra's circuit library has numerous variational circuits one could use for building their quantum feature map. However, the circuits specific to the data preparation step used in the paper [[1]](https://arxiv.org/abs/1804.11326) are : \n",
    "\n",
    "* ZFeatureMap\n",
    "* ZZFeatureMap\n",
    "* PauliFeatureMap\n",
    "\n",
    "These are also the feature maps that are available in Qiskit. Lets start by importing what is required."
   ]
  },
  {
   "cell_type": "code",
   "execution_count": 16,
   "metadata": {},
   "outputs": [],
   "source": [
    "from qiskit import *\n",
    "import numpy as np\n",
    "\n",
    "import time\n",
    "from qiskit.circuit.library import ZZFeatureMap, ZFeatureMap, PauliFeatureMap\n",
    "from qiskit.aqua.utils import split_dataset_to_data_and_labels, map_label_to_class_name\n",
    "from qiskit.aqua import QuantumInstance\n",
    "from qiskit.aqua.algorithms import VQC"
   ]
  },
  {
   "cell_type": "markdown",
   "metadata": {},
   "source": [
    "### ZFeatureMap"
   ]
  },
  {
   "cell_type": "markdown",
   "metadata": {},
   "source": [
    "A first order diagonal expansion is implemented using the `ZFeatureMap` feature map where $|S|=1$. The resulting circuit contains no interactions between features of the encoded data, and therefore no entanglement. The feature map can take the following inputs:\n",
    "\n",
    "- `feature_dimension`: dimensionality of the classical data (equal to the number of required qubits)\n",
    "- `reps`: number of times $d$ the feature map circuit is repeated\n",
    "- `data_map_func`: function $\\phi_S(\\mathbf{x})$ encoding the classical data.\n",
    "\n",
    "The default setting `data_map_func = self_product()` for the `ZFeatureMap` has $S = \\{i\\}$ and is given by \n",
    "\n",
    "$$\\phi_S:x\\mapsto x_i.$$"
   ]
  },
  {
   "cell_type": "code",
   "execution_count": 23,
   "metadata": {},
   "outputs": [
    {
     "data": {
      "text/html": [
       "<pre style=\"word-wrap: normal;white-space: pre;background: #fff0;line-height: 1.1;font-family: &quot;Courier New&quot;,Courier,monospace\">     ┌───┐┌──────────────┐┌───┐┌──────────────┐┌───┐┌──────────────┐┌───┐»\n",
       "q_0: ┤ H ├┤ U1(2.0*x[0]) ├┤ H ├┤ U1(2.0*x[0]) ├┤ H ├┤ U1(2.0*x[0]) ├┤ H ├»\n",
       "     ├───┤├──────────────┤├───┤├──────────────┤├───┤├──────────────┤├───┤»\n",
       "q_1: ┤ H ├┤ U1(2.0*x[1]) ├┤ H ├┤ U1(2.0*x[1]) ├┤ H ├┤ U1(2.0*x[1]) ├┤ H ├»\n",
       "     ├───┤├──────────────┤├───┤├──────────────┤├───┤├──────────────┤├───┤»\n",
       "q_2: ┤ H ├┤ U1(2.0*x[2]) ├┤ H ├┤ U1(2.0*x[2]) ├┤ H ├┤ U1(2.0*x[2]) ├┤ H ├»\n",
       "     └───┘└──────────────┘└───┘└──────────────┘└───┘└──────────────┘└───┘»\n",
       "«     ┌──────────────┐\n",
       "«q_0: ┤ U1(2.0*x[0]) ├\n",
       "«     ├──────────────┤\n",
       "«q_1: ┤ U1(2.0*x[1]) ├\n",
       "«     ├──────────────┤\n",
       "«q_2: ┤ U1(2.0*x[2]) ├\n",
       "«     └──────────────┘</pre>"
      ],
      "text/plain": [
       "     ┌───┐┌──────────────┐┌───┐┌──────────────┐┌───┐┌──────────────┐┌───┐»\n",
       "q_0: ┤ H ├┤ U1(2.0*x[0]) ├┤ H ├┤ U1(2.0*x[0]) ├┤ H ├┤ U1(2.0*x[0]) ├┤ H ├»\n",
       "     ├───┤├──────────────┤├───┤├──────────────┤├───┤├──────────────┤├───┤»\n",
       "q_1: ┤ H ├┤ U1(2.0*x[1]) ├┤ H ├┤ U1(2.0*x[1]) ├┤ H ├┤ U1(2.0*x[1]) ├┤ H ├»\n",
       "     ├───┤├──────────────┤├───┤├──────────────┤├───┤├──────────────┤├───┤»\n",
       "q_2: ┤ H ├┤ U1(2.0*x[2]) ├┤ H ├┤ U1(2.0*x[2]) ├┤ H ├┤ U1(2.0*x[2]) ├┤ H ├»\n",
       "     └───┘└──────────────┘└───┘└──────────────┘└───┘└──────────────┘└───┘»\n",
       "«     ┌──────────────┐\n",
       "«q_0: ┤ U1(2.0*x[0]) ├\n",
       "«     ├──────────────┤\n",
       "«q_1: ┤ U1(2.0*x[1]) ├\n",
       "«     ├──────────────┤\n",
       "«q_2: ┤ U1(2.0*x[2]) ├\n",
       "«     └──────────────┘"
      ]
     },
     "execution_count": 23,
     "metadata": {},
     "output_type": "execute_result"
    }
   ],
   "source": [
    "feature_dim = 3     # equal to the dimension of the data\n",
    "\n",
    "Z_feature_map = ZFeatureMap(feature_dimension=feature_dim, reps=4)\n",
    "Z_feature_map.draw()"
   ]
  },
  {
   "cell_type": "markdown",
   "metadata": {},
   "source": [
    "A good point to note at this point is that the `U1Gate` is an anti-clockwise rotation around the Z axis which changes the relative phase of a qubit, i.e, the $R_Z(\\phi)$ gate. And the reason why we see a factor of `2.0` inside all the gates, i.e, such as `U1(2.0*x[0])` is because $U_{\\Phi(\\mathbf{\\theta})}=\\exp\\left(i\\phi(\\mathbf{\\theta})Z_k\\right)$ and we know that $R_P(\\theta) = e^{(-i\\frac{\\theta}{2}P)}$ where $P$ is a Pauli X, Y or Z matrix."
   ]
  },
  {
   "cell_type": "code",
   "execution_count": 24,
   "metadata": {},
   "outputs": [
    {
     "name": "stdout",
     "output_type": "stream",
     "text": [
      "parameters of the Z Feature Map are: {Parameter(x[2]), Parameter(x[1]), Parameter(x[0])}\n"
     ]
    }
   ],
   "source": [
    "print(\"parameters of the Z Feature Map are: {}\".format(Z_feature_map.parameters))"
   ]
  },
  {
   "cell_type": "markdown",
   "metadata": {},
   "source": [
    "On playing around with the `feature_dim` attribute on `ZFeatureMap` we realize that for encoding data of dimension _d_ we require _d_ qubits. And this brings us to the reason why we applied dimension reduction techniques in the classical pre-processing step. Initially the data was of dimension 784 implying that we would require 784 qubits to encode it! Post the dimensionality reduction, we only require 2 qubits. We could however increase this dimension and test our accuracies - A good project to tinker on. \n",
    "\n",
    "The parameters $x[0], x[1]$ and $x[2]$ will be binded with the values of our feature vector $\\vec{x}$ during the implementation of our algorithm and thus becomes an immutable circuit. It is important to note that though we utilize variational circuits to build the Feature Map there is no learning of parameters taking place but the substitution of our data values.  "
   ]
  },
  {
   "cell_type": "markdown",
   "metadata": {},
   "source": [
    "### ZZFeatureMap"
   ]
  },
  {
   "cell_type": "markdown",
   "metadata": {},
   "source": [
    "The `ZZFeatureMap` feature map allows $|S|\\leq 2$, so interactions in the data will be encoded in the feature map according to the connectivity graph and the classical data map. `ZZFeatureMap` with default parameters is equivalent to the feature map described in [1] and can take the additional inputs:\n",
    "\n",
    "- `entanglement`: generates connectivity `'full'` or `'linear'` or defining your own entanglement structure (default value `'full'` indicates a complete connectivity graph of $\\frac{n(n-1)}{2}$ interactions)\n",
    "\n",
    "The default setting of the data map function in `ZZFeatureMap` is given by\n",
    "\n",
    "$$\\phi_S:x\\mapsto \\Bigg\\{\\begin{array}{ll}\n",
    "    x_i & \\mbox{if}\\ S=\\{i\\} \\\\\n",
    "        (\\pi-x_i)(\\pi-x_j) & \\mbox{if}\\ S=\\{i,j\\}\n",
    "    \\end{array}$$."
   ]
  },
  {
   "cell_type": "code",
   "execution_count": 29,
   "metadata": {},
   "outputs": [
    {
     "data": {
      "text/html": [
       "<pre style=\"word-wrap: normal;white-space: pre;background: #fff0;line-height: 1.1;font-family: &quot;Courier New&quot;,Courier,monospace\">     ┌───┐┌──────────────┐     »\n",
       "q_0: ┤ H ├┤ U1(2.0*x[0]) ├──■──»\n",
       "     ├───┤├──────────────┤┌─┴─┐»\n",
       "q_1: ┤ H ├┤ U1(2.0*x[1]) ├┤ X ├»\n",
       "     └───┘└──────────────┘└───┘»\n",
       "«                                                                         ┌───┐»\n",
       "«q_0: ─────────────────────────────────────────────────────────────────■──┤ H ├»\n",
       "«     ┌─────────────────────────────────────────────────────────────┐┌─┴─┐├───┤»\n",
       "«q_1: ┤ U1(2.0*(3.14159265358979 - x[0])*(3.14159265358979 - x[1])) ├┤ X ├┤ H ├»\n",
       "«     └─────────────────────────────────────────────────────────────┘└───┘└───┘»\n",
       "«     ┌──────────────┐     »\n",
       "«q_0: ┤ U1(2.0*x[0]) ├──■──»\n",
       "«     ├──────────────┤┌─┴─┐»\n",
       "«q_1: ┤ U1(2.0*x[1]) ├┤ X ├»\n",
       "«     └──────────────┘└───┘»\n",
       "«                                                                         \n",
       "«q_0: ─────────────────────────────────────────────────────────────────■──\n",
       "«     ┌─────────────────────────────────────────────────────────────┐┌─┴─┐\n",
       "«q_1: ┤ U1(2.0*(3.14159265358979 - x[0])*(3.14159265358979 - x[1])) ├┤ X ├\n",
       "«     └─────────────────────────────────────────────────────────────┘└───┘</pre>"
      ],
      "text/plain": [
       "     ┌───┐┌──────────────┐     »\n",
       "q_0: ┤ H ├┤ U1(2.0*x[0]) ├──■──»\n",
       "     ├───┤├──────────────┤┌─┴─┐»\n",
       "q_1: ┤ H ├┤ U1(2.0*x[1]) ├┤ X ├»\n",
       "     └───┘└──────────────┘└───┘»\n",
       "«                                                                         ┌───┐»\n",
       "«q_0: ─────────────────────────────────────────────────────────────────■──┤ H ├»\n",
       "«     ┌─────────────────────────────────────────────────────────────┐┌─┴─┐├───┤»\n",
       "«q_1: ┤ U1(2.0*(3.14159265358979 - x[0])*(3.14159265358979 - x[1])) ├┤ X ├┤ H ├»\n",
       "«     └─────────────────────────────────────────────────────────────┘└───┘└───┘»\n",
       "«     ┌──────────────┐     »\n",
       "«q_0: ┤ U1(2.0*x[0]) ├──■──»\n",
       "«     ├──────────────┤┌─┴─┐»\n",
       "«q_1: ┤ U1(2.0*x[1]) ├┤ X ├»\n",
       "«     └──────────────┘└───┘»\n",
       "«                                                                         \n",
       "«q_0: ─────────────────────────────────────────────────────────────────■──\n",
       "«     ┌─────────────────────────────────────────────────────────────┐┌─┴─┐\n",
       "«q_1: ┤ U1(2.0*(3.14159265358979 - x[0])*(3.14159265358979 - x[1])) ├┤ X ├\n",
       "«     └─────────────────────────────────────────────────────────────┘└───┘"
      ]
     },
     "execution_count": 29,
     "metadata": {},
     "output_type": "execute_result"
    }
   ],
   "source": [
    "feature_dim = 2\n",
    "\n",
    "ZZ_feature_map = ZZFeatureMap(feature_dimension=feature_dim, reps=2, insert_barriers=True)\n",
    "ZZ_feature_map.draw()"
   ]
  },
  {
   "cell_type": "code",
   "execution_count": 30,
   "metadata": {},
   "outputs": [
    {
     "name": "stdout",
     "output_type": "stream",
     "text": [
      "parameters of the Z Feature Map are: {Parameter(x[1]), Parameter(x[0])}\n"
     ]
    }
   ],
   "source": [
    "print(\"parameters of the Z Feature Map are: {}\".format(ZZ_feature_map.parameters))"
   ]
  },
  {
   "cell_type": "markdown",
   "metadata": {},
   "source": [
    "### PauliFeatureMap"
   ]
  },
  {
   "cell_type": "markdown",
   "metadata": {},
   "source": [
    "For some applications, we may want to consider a more general form of the feature map. One way to generalize is to use `PauliFeatureMap` and specify a set of Pauli gates instead of using the default $Z$ gates. This feature map has the same parameters as `ZFeatureMap` and `ZZFeatureMap` such as `reps` and `data_map_func` along with an additional `paulis` parameter to change the gate set. This parameter is a list of strings, each representing the desired Pauli gate(s). The default value is `['Z', 'ZZ']`, which is equivalent to `ZZFeatureMap`.\n",
    "\n",
    "\n",
    "Each string in `paulis` is implemented one at a time for each layer in the depth $d$ feature map circuit. A single character, for example `'Z'`, adds one layer of the corresponding single-qubit gates, while terms such as `'ZZ'` or `'XY'` add a layer of corresponding two-qubit entangling gates for each qubit pair available based on `entanglement`.\n",
    "\n",
    "For example, the choice `paulis = ['Z', 'Y', 'ZZ']` generates a quantum feature map of the form \n",
    "\n",
    "$$\\mathcal{U}_{\\Phi(\\mathbf{x})} = \\left( \\exp\\left(i\\sum_{jk} \\phi_{\\{j,k\\}}(\\mathbf{x}) \\, Z_j \\otimes Z_k\\right) \\, \\exp\\left(i\\sum_{j} \\phi_{\\{j\\}}(\\mathbf{x}) \\, Y_j\\right) \\, \\exp\\left(i\\sum_j \\phi_{\\{j\\}}(\\mathbf{x}) \\, Z_j\\right) \\, H^{\\otimes n} \\right)^d.$$ \n",
    "\n",
    "The depth $d=1$ version of this quantum circuit is shown in the figure below for $n=2$ qubits.\n",
    "\n",
    "\n",
    "<img src=\"./images/depth1.PNG\" width=\"400\"/>\n",
    "\n",
    "\n",
    "The circuit begins with a layer of Hadamard gates $H^{\\otimes n}$ followed by a layer of single-qubit $A = e^{i\\phi_{\\{j\\}}(\\mathbf{x})Z_j}$ gates and a layer of $B = e^{i\\phi_{\\{j\\}}(\\mathbf{x}) \\, Y_j}$ gates. The $A$ and $B$ gates are parametrized by the same set of angles $\\phi_{\\{j\\}}(\\mathbf{x})$ but around different axes. The diagonal entangling gate $e^{i \\phi_{\\{0,1\\}}(\\mathbf{x}) \\, Z_0 \\otimes Z_1}$ is parametrized by an angle $\\phi_{\\{0,1\\}}(\\mathbf{x})$ and can be implemented using two controlled-NOT gates and one $A'=e^{i\\phi_{\\{0,1\\}}(x)\\, Z_1}$ gate as shown in the figure.\n",
    "\n",
    "As a comparison, `paulis = ['Z', 'ZZ']` creates the same circuit as above but without the $B$ gates, while `paulis = ['Z', 'YY']` creates a circuit with a layer of $A$ gates followed by a layer of entangling gates $e^{i \\phi_{\\{0,1\\}}(\\mathbf{x}) \\, Y_0 \\otimes Y_1}$.\n",
    "\n",
    "Below, we test the `PauliFeatureMap` with `paulis=['Z', 'Y', 'ZZ']`."
   ]
  },
  {
   "cell_type": "code",
   "execution_count": 33,
   "metadata": {},
   "outputs": [
    {
     "data": {
      "text/html": [
       "<pre style=\"word-wrap: normal;white-space: pre;background: #fff0;line-height: 1.1;font-family: &quot;Courier New&quot;,Courier,monospace\">     ┌───┐┌──────────────┐┌───┐┌──────────────┐┌───┐┌──────────┐     »\n",
       "q_0: ┤ H ├┤ U1(2.0*x[0]) ├┤ H ├┤ U1(2.0*x[0]) ├┤ H ├┤ RX(pi/2) ├──■──»\n",
       "     ├───┤├──────────────┤├───┤├──────────────┤├───┤└──────────┘┌─┴─┐»\n",
       "q_1: ┤ H ├┤ U1(2.0*x[1]) ├┤ H ├┤ U1(2.0*x[1]) ├┤ H ├────────────┤ X ├»\n",
       "     └───┘└──────────────┘└───┘└──────────────┘└───┘            └───┘»\n",
       "«                                                                         »\n",
       "«q_0: ─────────────────────────────────────────────────────────────────■──»\n",
       "«     ┌─────────────────────────────────────────────────────────────┐┌─┴─┐»\n",
       "«q_1: ┤ U1(2.0*(3.14159265358979 - x[0])*(3.14159265358979 - x[1])) ├┤ X ├»\n",
       "«     └─────────────────────────────────────────────────────────────┘└───┘»\n",
       "«     ┌───────────┐\n",
       "«q_0: ┤ RX(-pi/2) ├\n",
       "«     └───────────┘\n",
       "«q_1: ─────────────\n",
       "«                  </pre>"
      ],
      "text/plain": [
       "     ┌───┐┌──────────────┐┌───┐┌──────────────┐┌───┐┌──────────┐     »\n",
       "q_0: ┤ H ├┤ U1(2.0*x[0]) ├┤ H ├┤ U1(2.0*x[0]) ├┤ H ├┤ RX(pi/2) ├──■──»\n",
       "     ├───┤├──────────────┤├───┤├──────────────┤├───┤└──────────┘┌─┴─┐»\n",
       "q_1: ┤ H ├┤ U1(2.0*x[1]) ├┤ H ├┤ U1(2.0*x[1]) ├┤ H ├────────────┤ X ├»\n",
       "     └───┘└──────────────┘└───┘└──────────────┘└───┘            └───┘»\n",
       "«                                                                         »\n",
       "«q_0: ─────────────────────────────────────────────────────────────────■──»\n",
       "«     ┌─────────────────────────────────────────────────────────────┐┌─┴─┐»\n",
       "«q_1: ┤ U1(2.0*(3.14159265358979 - x[0])*(3.14159265358979 - x[1])) ├┤ X ├»\n",
       "«     └─────────────────────────────────────────────────────────────┘└───┘»\n",
       "«     ┌───────────┐\n",
       "«q_0: ┤ RX(-pi/2) ├\n",
       "«     └───────────┘\n",
       "«q_1: ─────────────\n",
       "«                  "
      ]
     },
     "execution_count": 33,
     "metadata": {},
     "output_type": "execute_result"
    }
   ],
   "source": [
    "feature_dim = 2\n",
    "\n",
    "pauli_feature_map = PauliFeatureMap(feature_dimension=feature_dim, reps=1, paulis = ['Z','X','ZY'])\n",
    "pauli_feature_map.draw()"
   ]
  },
  {
   "cell_type": "markdown",
   "metadata": {},
   "source": [
    "These are the feature maps present in Qiskit and are the ones mentioned in the paper [[1]](https://arxiv.org/abs/1804.11326) as well. It is important to note that the feature maps used in the paper were designed with the aim for them to be hard to simulate on a classical computer and are not known to have a [kernel function](https://en.wikipedia.org/wiki/Kernel_method) for the dot product which can be efficiently computed classically. \n",
    "\n",
    "The dataset used in the paper was tailor-made to get a high classification accuracy with the quantum feature maps used. However, these feature maps may not perform well with other datasets. For a particular dataset, finding a quantum feature map that can spread the datapoints in Hilbert space in such a way that a hyperplane can be drawn to classify them is important to gain higher accuracies for our model. \n",
    "\n",
    "Further, it is important for the corresponding quantum feature map circuit to be shallow (i.e, have a small circuit depth) as decoherence will come into play and decrease our accuracies. Similarily having more 2-qubit gates will increase the error in the circuit thus leading to further decrease in accuracy. To understand more about errors in real quantum computers you can look at [this section](https://qiskit.org/textbook/ch-quantum-hardware/index-circuits.html) of the Qiskit textbook. This will not be required for the challenge going forward as we will only use local simulators. Creating such short depth feature maps for real-world datasets is an open problem and an active field of research in Quantum Machine Learning.\n",
    "\n",
    "As being able to construct tailor-made feature maps is important for increasing the accuracy we will look at a method to create your very own variational circuits in the following section. This can be used to create custom feature maps as well. "
   ]
  },
  {
   "cell_type": "markdown",
   "metadata": {},
   "source": [
    "### 2.2 Building the Circuit that Classifies <a id=\"var-forms\"></a>"
   ]
  },
  {
   "cell_type": "markdown",
   "metadata": {},
   "source": [
    "In this step we append a short depth [Variational Circuit](https://qiskit.org/documentation/tutorials/circuits_advanced/1_advanced_circuits.html) to the previously constructed feature map. The parameters of this variational circuit are then trained in the [classical optimization loop](#classical-optimization) until it classifies the datapoints correctly. This is the learning stage of the algorithm and accuracy of the model can vary based on the variational circuit one chooses. It is essential to choose a variational circuit of shorter depth (making it especially viable for implementations on real hardware), lesser number of parameters to train (faster training process) while making sure its [_Expressability and Entangling capacity_](https://arxiv.org/pdf/1905.10876.pdf) are enough to classify our dataset to the degree we want. Building variational circuits with such conflicting properties, similar to the study on quantum feature maps, is an active field of research.\n",
    "\n",
    "Coming to the implementation details, In Terra one can build variational circuits using multiple classes such as the `NLocal`, `RealAmplitudes` or the `FunctionalPauliRotations` class from the Terra circuit library. More variational forms can be found in the [documentation](https://qiskit.org/documentation/apidoc/circuit_library.html), [codebase](https://github.com/Qiskit/qiskit-terra/tree/master/qiskit/circuit/library)."
   ]
  },
  {
   "cell_type": "markdown",
   "metadata": {},
   "source": [
    "**Constructing using [`Real Amplitudes`](https://qiskit.org/documentation/stubs/qiskit.circuit.library.RealAmplitudes.html):**"
   ]
  },
  {
   "cell_type": "markdown",
   "metadata": {},
   "source": [
    "Let us create a variational circuit using the inbuilt `Real Amplitudes` method. Do check out the [documentation page](https://qiskit.org/documentation/stubs/qiskit.circuit.library.RealAmplitudes.html) to understand more about its working."
   ]
  },
  {
   "cell_type": "code",
   "execution_count": 35,
   "metadata": {},
   "outputs": [
    {
     "data": {
      "text/html": [
       "<pre style=\"word-wrap: normal;white-space: pre;background: #fff0;line-height: 1.1;font-family: &quot;Courier New&quot;,Courier,monospace\">     ┌──────────┐     ┌──────────┐     ┌──────────┐     ┌──────────┐\n",
       "q_0: ┤ RY(θ[0]) ├──■──┤ RY(θ[2]) ├──■──┤ RY(θ[4]) ├──■──┤ RY(θ[6]) ├\n",
       "     ├──────────┤┌─┴─┐├──────────┤┌─┴─┐├──────────┤┌─┴─┐├──────────┤\n",
       "q_1: ┤ RY(θ[1]) ├┤ X ├┤ RY(θ[3]) ├┤ X ├┤ RY(θ[5]) ├┤ X ├┤ RY(θ[7]) ├\n",
       "     └──────────┘└───┘└──────────┘└───┘└──────────┘└───┘└──────────┘</pre>"
      ],
      "text/plain": [
       "     ┌──────────┐     ┌──────────┐     ┌──────────┐     ┌──────────┐\n",
       "q_0: ┤ RY(θ[0]) ├──■──┤ RY(θ[2]) ├──■──┤ RY(θ[4]) ├──■──┤ RY(θ[6]) ├\n",
       "     ├──────────┤┌─┴─┐├──────────┤┌─┴─┐├──────────┤┌─┴─┐├──────────┤\n",
       "q_1: ┤ RY(θ[1]) ├┤ X ├┤ RY(θ[3]) ├┤ X ├┤ RY(θ[5]) ├┤ X ├┤ RY(θ[7]) ├\n",
       "     └──────────┘└───┘└──────────┘└───┘└──────────┘└───┘└──────────┘"
      ]
     },
     "execution_count": 35,
     "metadata": {},
     "output_type": "execute_result"
    }
   ],
   "source": [
    "from qiskit.circuit.library import RealAmplitudes\n",
    "\n",
    "num_qubits = 2\n",
    "\n",
    "classifier_circ = RealAmplitudes(num_qubits, entanglement='full', reps=3)\n",
    "classifier_circ.draw()"
   ]
  },
  {
   "cell_type": "markdown",
   "metadata": {},
   "source": [
    "**Constructing a Custom Variational Circuit/Feature Map:** "
   ]
  },
  {
   "cell_type": "markdown",
   "metadata": {},
   "source": [
    "Up until this point we have learnt how to create feature maps and variational circuits using inbuilt methods in Qiskit. Now, let's create a custom variational circuit which can be used either in the place of a `FeatureMap` or as a `VariationalCircuit`. \n",
    "\n",
    "Creating a custom variational circuit is simple. While creating a `QuantumCircuit`, in the place where you would normally insert an angle you now have to insert a [`Parameter`](https://qiskit.org/documentation/stubs/qiskit.circuit.Parameter.html) object and this transforms our circuit into a variational circuit. For the sake of convenience we could use [`ParameterVector`](https://qiskit.org/documentation/stubs/qiskit.circuit.ParameterVector.html) to create a list of Pararmeters. Here's an example:"
   ]
  },
  {
   "cell_type": "code",
   "execution_count": 36,
   "metadata": {},
   "outputs": [
    {
     "data": {
      "image/png": "[encoded data removed]",
      "text/plain": [
       "<Figure size 780.192x204.68 with 1 Axes>"
      ]
     },
     "execution_count": 36,
     "metadata": {},
     "output_type": "execute_result"
    }
   ],
   "source": [
    "from qiskit.circuit import QuantumCircuit, ParameterVector\n",
    "\n",
    "num_qubits = 3            \n",
    "reps = 1              # number of times you'd want to repeat the circuit\n",
    "\n",
    "x = ParameterVector('x', length=num_qubits)  # creating a list of Parameters\n",
    "custom_circ = QuantumCircuit(num_qubits)\n",
    "\n",
    "# defining our parametric form\n",
    "for _ in range(reps):\n",
    "    for i in range(num_qubits):\n",
    "        custom_circ.rx(x[i], i)\n",
    "    for i in range(num_qubits):\n",
    "        for j in range(i + 1, num_qubits):\n",
    "            custom_circ.cx(i, j)\n",
    "            custom_circ.u1(x[i] * x[j], j)\n",
    "            custom_circ.cx(i, j)\n",
    "            \n",
    "custom_circ.draw('mpl')"
   ]
  },
  {
   "cell_type": "markdown",
   "metadata": {},
   "source": [
    "During the challenge phase, creating a custom feature map will become crucial in improving the accuracy of your model as it gives the freedom to create an effective feature map and variational circuit tailor made for your dataset. However, as we discussed earlier, the idea of \"how\" to create an effective feature map and variational circuit for a particular dataset are active fields of research and there is no concrete answer to it yet."
   ]
  },
  {
   "cell_type": "markdown",
   "metadata": {},
   "source": [
    "### 2.3 Measurement and Assigning a Binary Label <a id=\"validate\"></a> "
   ]
  },
  {
   "cell_type": "markdown",
   "metadata": {},
   "source": [
    "After creating and measuring the circuit we are left with an _n_ bit classical string from which we must derive a binary output which will be our classification result. This is done with the help of a boolean function $f: \\{0, 1\\}^{n} -> \\{0, 1\\}$. The way this boolean function is written out may not be as significant as the concepts earlier as modifying the boolean function will change the values of the parameters learned to accommodate for the change. Common examples of boolean functions are:\n",
    "\n",
    "* **Parity function** : modulus 2 sum of all the digits of the _n_ bit classical string. \n",
    "* **Choosing the \"k\"th digit** : Choose the digit number \"k\" in the _n_ bit classical string as the output, etc.\n",
    "\n",
    "This functionality is already inbuilt in the `VQC` method in Qiskit Aqua and you won't have to make any changes to it."
   ]
  },
  {
   "cell_type": "markdown",
   "metadata": {},
   "source": [
    "### 2.4 Classical optimization loop <a id=\"classical-optimization\"></a> "
   ]
  },
  {
   "cell_type": "markdown",
   "metadata": {},
   "source": [
    "Once we get our predictions a classical optimization routine changes the values of our variational circuit and repeats the whole process again. This is the classical loop that trains our parameters until the cost function value decreases. The details of the working have been ommitted as they are immutable and are not relevant going forward. However, you can look at the [code](https://github.com/Qiskit/qiskit-aqua/blob/master/qiskit/aqua/algorithms/classifiers/vqc.py) and the [optimization step](https://github.com/Qiskit/qiskit-aqua/blob/f5efe642f6374da45b96c5a73a9a01121f95081e/qiskit/aqua/algorithms/classifiers/vqc.py#L661) to understand exactly how this step takes place. \n",
    "\n",
    "Though there's isn't an available option to change the cost function during the optimization of VQC, Aqua provides you with a plethora of Optimization methods you could use during the training stage of the process. Here are a few for your reference:\n",
    "\n",
    "**Commonly used optimization methods in Aqua:**\n",
    "\n",
    "* COBYLA - Constrained Optimization By Linear Approximation optimizer.\n",
    "* SPSA - Simultaneous Perturbation Stochastic Approximation (SPSA) optimizer.\n",
    "* SLSQP - Sequential Least SQuares Programming optimizer, etc.\n",
    "\n",
    "The complete list can be found in the [documentation](https://qiskit.org/documentation/apidoc/qiskit.aqua.components.optimizers.html). "
   ]
  },
  {
   "cell_type": "markdown",
   "metadata": {},
   "source": [
    "## 3 Classifying Digits 0 and 1 <a id=\"full\"></a>"
   ]
  },
  {
   "cell_type": "markdown",
   "metadata": {},
   "source": [
    "Lets apply what we've learned using the **VQC method in Aqua** to solve our classifcation task of classifying digits `0` and `1`. Using 10,000 points for training using a simulator will take ages, hence we will take a very small subset of **20 training datapoints** and **10 testing datapoints**. We also keep 5 points per label as a validation set to see exactly how our model is classifying the given inputs. "
   ]
  },
  {
   "cell_type": "code",
   "execution_count": 37,
   "metadata": {},
   "outputs": [],
   "source": [
    "train_size = 20\n",
    "test_size = 10\n",
    "dp_size_zero = 5\n",
    "dp_size_one = 5\n",
    "\n",
    "zero_train = zero_datapoints_normalized[:train_size]\n",
    "one_train = one_datapoints_normalized[:train_size]\n",
    "\n",
    "zero_test = zero_datapoints_normalized[train_size + 1:train_size + test_size + 1]\n",
    "one_test = one_datapoints_normalized[train_size + 1:train_size + test_size + 1]\n",
    "\n",
    "training_input = {'A':zero_train, 'B':one_train}\n",
    "test_input = {'A':zero_test, 'B':one_test}\n",
    "\n",
    "# datapoints is our validation set\n",
    "datapoints = []\n",
    "dp_zero = zero_datapoints_normalized[train_size + test_size + 2:train_size + test_size + 2 + dp_size_zero]\n",
    "dp_one = one_datapoints_normalized[train_size + test_size + 2:train_size + test_size + 2 + dp_size_one]\n",
    "datapoints.append(np.concatenate((dp_zero, dp_one)))\n",
    "dp_y = np.array([0, 0, 0, 0, 0, 1, 1, 1, 1, 1])\n",
    "datapoints.append(dp_y)\n",
    "\n",
    "class_to_label = {'A': 0, 'B': 1}"
   ]
  },
  {
   "cell_type": "markdown",
   "metadata": {},
   "source": [
    "**Instantiate the Feature map to use:**"
   ]
  },
  {
   "cell_type": "code",
   "execution_count": 39,
   "metadata": {},
   "outputs": [
    {
     "data": {
      "image/png": "[encoded data removed]",
      "text/plain": [
       "<Figure size 780.192x144.48 with 1 Axes>"
      ]
     },
     "execution_count": 39,
     "metadata": {},
     "output_type": "execute_result"
    }
   ],
   "source": [
    "seed = 10598\n",
    "feature_dim = zero_train.shape[1]\n",
    "\n",
    "feature_map = ZZFeatureMap(feature_dimension=feature_dim, reps=2, entanglement='linear')\n",
    "feature_map.draw('mpl')"
   ]
  },
  {
   "cell_type": "markdown",
   "metadata": {},
   "source": [
    "**Instantiate the Classical Optimizer to use:**"
   ]
  },
  {
   "cell_type": "code",
   "execution_count": 40,
   "metadata": {},
   "outputs": [],
   "source": [
    "from qiskit.aqua.components.optimizers import COBYLA\n",
    "\n",
    "cobyla = COBYLA(maxiter=500, tol=0.001)"
   ]
  },
  {
   "cell_type": "markdown",
   "metadata": {},
   "source": [
    "**Instantiate the variational Circuit to use:**"
   ]
  },
  {
   "cell_type": "code",
   "execution_count": 41,
   "metadata": {},
   "outputs": [
    {
     "data": {
      "image/png": "[encoded data removed]",
      "text/plain": [
       "<Figure size 659.792x144.48 with 1 Axes>"
      ]
     },
     "execution_count": 41,
     "metadata": {},
     "output_type": "execute_result"
    }
   ],
   "source": [
    "from qiskit.circuit.library import EfficientSU2, RealAmplitudes\n",
    "\n",
    "var = EfficientSU2(feature_dim, reps=2)\n",
    "var.draw('mpl')"
   ]
  },
  {
   "cell_type": "markdown",
   "metadata": {},
   "source": [
    "Constructing a callback function to get the parameter values after each iteration. This step is optional but highly recommended to see if the algorithm is working and is optimizing your parameters as you'd expect it to. "
   ]
  },
  {
   "cell_type": "code",
   "execution_count": 42,
   "metadata": {},
   "outputs": [],
   "source": [
    "def call_back_vqc(eval_count, var_params, eval_val, index):\n",
    "    print(\"eval_count: {}\".format(eval_count))\n",
    "    print(\"var_params: {}\".format(var_params))\n",
    "    print(\"eval_val: {}\".format(eval_val))\n",
    "    print(\"index: {}\".format(index))"
   ]
  },
  {
   "cell_type": "markdown",
   "metadata": {},
   "source": [
    "**Bringing everything together**"
   ]
  },
  {
   "cell_type": "code",
   "execution_count": 43,
   "metadata": {},
   "outputs": [],
   "source": [
    "# initilizing our backend\n",
    "backend = BasicAer.get_backend('qasm_simulator')\n",
    "backend_options = {\"method\": \"statevector\"}\n",
    "\n",
    "# creating a quantum instance\n",
    "quantum_instance = QuantumInstance(backend, shots=1024, seed_simulator=seed, seed_transpiler=seed, backend_options=backend_options)\n",
    "\n",
    "#initilizing our VQC object\n",
    "vqc = VQC(optimizer=cobyla, feature_map=feature_map, var_form=var, callback=call_back_vqc, training_dataset=training_input, \n",
    "         test_dataset=test_input, datapoints=datapoints[0])"
   ]
  },
  {
   "cell_type": "code",
   "execution_count": 44,
   "metadata": {},
   "outputs": [
    {
     "name": "stdout",
     "output_type": "stream",
     "text": [
      "eval_count: 0\n",
      "var_params: [ 3.30045889e-01 -4.79979434e-04  8.18115898e-01  4.28213708e-01\n",
      " -2.50394732e+00  1.20481133e-01  8.07892857e-01  6.02120978e-01\n",
      " -8.65190000e-01 -1.53320351e-01 -2.40490559e-01 -6.07633463e-02]\n",
      "eval_val: 0.36383546839390696\n",
      "index: 0\n",
      "eval_count: 1\n",
      "var_params: [ 1.33004589e+00 -4.79979434e-04  8.18115898e-01  4.28213708e-01\n",
      " -2.50394732e+00  1.20481133e-01  8.07892857e-01  6.02120978e-01\n",
      " -8.65190000e-01 -1.53320351e-01 -2.40490559e-01 -6.07633463e-02]\n",
      "eval_val: 0.4644480043245108\n",
      "index: 1\n",
      "eval_count: 2\n",
      "var_params: [ 0.33004589  0.99952002  0.8181159   0.42821371 -2.50394732  0.12048113\n",
      "  0.80789286  0.60212098 -0.86519    -0.15332035 -0.24049056 -0.06076335]\n",
      "eval_val: 0.36383546839390696\n",
      "index: 2\n",
      "eval_count: 3\n",
      "var_params: [ 3.30045889e-01 -4.79979434e-04  1.81811590e+00  4.28213708e-01\n",
      " -2.50394732e+00  1.20481133e-01  8.07892857e-01  6.02120978e-01\n",
      " -8.65190000e-01 -1.53320351e-01 -2.40490559e-01 -6.07633463e-02]\n",
      "eval_val: 0.36383546839390696\n",
      "index: 3\n",
      "eval_count: 4\n",
      "var_params: [ 3.30045889e-01 -4.79979434e-04  8.18115898e-01  1.42821371e+00\n",
      " -2.50394732e+00  1.20481133e-01  8.07892857e-01  6.02120978e-01\n",
      " -8.65190000e-01 -1.53320351e-01 -2.40490559e-01 -6.07633463e-02]\n",
      "eval_val: 0.5795389044152716\n",
      "index: 4\n",
      "eval_count: 5\n",
      "var_params: [ 3.30045889e-01 -4.79979434e-04  8.18115898e-01  4.28213708e-01\n",
      " -1.50394732e+00  1.20481133e-01  8.07892857e-01  6.02120978e-01\n",
      " -8.65190000e-01 -1.53320351e-01 -2.40490559e-01 -6.07633463e-02]\n",
      "eval_val: 0.36434053716436504\n",
      "index: 5\n",
      "eval_count: 6\n",
      "var_params: [ 3.30045889e-01 -4.79979434e-04  8.18115898e-01  4.28213708e-01\n",
      " -2.50394732e+00  1.12048113e+00  8.07892857e-01  6.02120978e-01\n",
      " -8.65190000e-01 -1.53320351e-01 -2.40490559e-01 -6.07633463e-02]\n",
      "eval_val: 0.4537982061543865\n",
      "index: 6\n",
      "eval_count: 7\n",
      "var_params: [ 3.30045889e-01 -4.79979434e-04  8.18115898e-01  4.28213708e-01\n",
      " -2.50394732e+00  1.20481133e-01  1.80789286e+00  6.02120978e-01\n",
      " -8.65190000e-01 -1.53320351e-01 -2.40490559e-01 -6.07633463e-02]\n",
      "eval_val: 0.34336885619361995\n",
      "index: 7\n",
      "eval_count: 8\n",
      "var_params: [ 3.30045889e-01 -4.79979434e-04  8.18115898e-01  4.28213708e-01\n",
      " -2.50394732e+00  1.20481133e-01  1.80789286e+00  1.60212098e+00\n",
      " -8.65190000e-01 -1.53320351e-01 -2.40490559e-01 -6.07633463e-02]\n",
      "eval_val: 0.3126868030844361\n",
      "index: 8\n",
      "eval_count: 9\n",
      "var_params: [ 3.30045889e-01 -4.79979434e-04  8.18115898e-01  4.28213708e-01\n",
      " -2.50394732e+00  1.20481133e-01  1.80789286e+00  1.60212098e+00\n",
      "  1.34810000e-01 -1.53320351e-01 -2.40490559e-01 -6.07633463e-02]\n",
      "eval_val: 0.35217967313797055\n",
      "index: 9\n",
      "eval_count: 10\n",
      "var_params: [ 3.30045889e-01 -4.79979434e-04  8.18115898e-01  4.28213708e-01\n",
      " -2.50394732e+00  1.20481133e-01  1.80789286e+00  1.60212098e+00\n",
      " -8.65190000e-01  8.46679649e-01 -2.40490559e-01 -6.07633463e-02]\n",
      "eval_val: 0.3572536132350232\n",
      "index: 10\n",
      "eval_count: 11\n",
      "var_params: [ 3.30045889e-01 -4.79979434e-04  8.18115898e-01  4.28213708e-01\n",
      " -2.50394732e+00  1.20481133e-01  1.80789286e+00  1.60212098e+00\n",
      " -8.65190000e-01 -1.53320351e-01  7.59509441e-01 -6.07633463e-02]\n",
      "eval_val: 0.46329092165598285\n",
      "index: 11\n",
      "eval_count: 12\n",
      "var_params: [ 3.30045889e-01 -4.79979434e-04  8.18115898e-01  4.28213708e-01\n",
      " -2.50394732e+00  1.20481133e-01  1.80789286e+00  1.60212098e+00\n",
      " -8.65190000e-01 -1.53320351e-01 -2.40490559e-01  9.39236654e-01]\n",
      "eval_val: 0.5731581416443001\n",
      "index: 12\n",
      "eval_count: 13\n",
      "var_params: [ 7.86539398e-02 -4.79979434e-04  8.18115898e-01 -1.10746043e-01\n",
      " -2.50520929e+00 -1.04301076e-01  1.85903103e+00  1.67878360e+00\n",
      " -9.63867461e-01 -2.64675633e-01 -6.16792206e-01 -7.11580832e-01]\n",
      "eval_val: 0.457252129302509\n",
      "index: 13\n",
      "eval_count: 14\n",
      "var_params: [ 8.21486045e-01 -4.79979434e-04  8.18115898e-01  3.76915926e-01\n",
      " -2.50406744e+00  9.90865317e-02  1.81276015e+00  1.60941767e+00\n",
      " -8.74582046e-01 -1.63919062e-01 -2.76306666e-01 -1.22707663e-01]\n",
      "eval_val: 0.32789875167760585\n",
      "index: 14\n",
      "eval_count: 15\n",
      "var_params: [ 0.33004589  0.24952002  0.8181159   0.42821371 -2.50394732  0.12048113\n",
      "  1.80789286  1.60212098 -0.86519    -0.15332035 -0.24049056 -0.06076335]\n",
      "eval_val: 0.3126868030844361\n",
      "index: 15\n",
      "eval_count: 16\n",
      "var_params: [ 3.28318391e-01 -4.79979434e-04  8.18115898e-01  8.87662655e-01\n",
      " -2.50425694e+00  6.53328515e-02  1.82043915e+00  1.62092946e+00\n",
      " -8.89399622e-01 -1.80640362e-01 -3.32812763e-01 -2.20435528e-01]\n",
      "eval_val: 0.303138397310296\n",
      "index: 16\n",
      "eval_count: 17\n",
      "var_params: [ 3.28318391e-01 -4.79979434e-04  8.18115898e-01  8.87662655e-01\n",
      " -2.75425300e+00  6.67363793e-02  1.82043915e+00  1.62092946e+00\n",
      " -8.89399622e-01 -1.80640362e-01 -3.32812763e-01 -2.20435528e-01]\n",
      "eval_val: 0.3196763763621632\n",
      "index: 17\n",
      "eval_count: 18\n",
      "var_params: [ 3.27414150e-01 -4.79979434e-04  8.18115898e-01  9.12167168e-01\n",
      " -2.48028547e+00  5.54207297e-01  1.82700637e+00  1.63077456e+00\n",
      " -9.02071893e-01 -1.94940732e-01 -3.81137844e-01 -3.04014241e-01]\n",
      "eval_val: 0.29702190252386795\n",
      "index: 18\n",
      "eval_count: 19\n",
      "var_params: [ 3.27414150e-01 -4.79979434e-04  1.06811590e+00  9.12167168e-01\n",
      " -2.48028547e+00  5.54207297e-01  1.82700637e+00  1.63077456e+00\n",
      " -9.02071893e-01 -1.94940732e-01 -3.81137844e-01 -3.04014241e-01]\n",
      "eval_val: 0.29702190252386795\n",
      "index: 19\n",
      "eval_count: 20\n",
      "var_params: [ 3.23041777e-01 -4.79979434e-04  8.18115898e-01  1.03065650e+00\n",
      " -2.37737570e+00  6.02193109e-01  1.85876157e+00  1.67837965e+00\n",
      " -9.63347502e-01 -2.64088870e-01 -6.14809365e-01  9.17570542e-02]\n",
      "eval_val: 0.4595878591515138\n",
      "index: 20\n",
      "eval_count: 21\n",
      "var_params: [ 3.27414150e-01 -4.79979434e-04  8.18115898e-01  9.12167168e-01\n",
      " -2.48028547e+00  5.54207297e-01  2.07472937e+00  1.63077456e+00\n",
      " -9.02071893e-01 -1.94940732e-01 -3.47473091e-01 -3.04014241e-01]\n",
      "eval_val: 0.2899163799363138\n",
      "index: 21\n",
      "eval_count: 22\n",
      "var_params: [ 3.24969108e-01 -4.79979434e-04  8.18115898e-01  9.78426695e-01\n",
      " -2.42273808e+00  5.81041081e-01  2.03589776e+00  1.65739544e+00\n",
      " -9.36337364e-01 -2.33608540e-01  1.21399957e-01 -4.33799142e-01]\n",
      "eval_val: 0.25923633239078087\n",
      "index: 22\n",
      "eval_count: 23\n",
      "var_params: [ 2.11820093e-01 -4.79979434e-04  8.18115898e-01  8.22370190e-01\n",
      " -2.35365312e+00  5.14985971e-01  2.07181775e+00  1.68960937e+00\n",
      " -9.77802010e-01 -2.80400456e-01  7.86868761e-02 -8.76118561e-01]\n",
      "eval_val: 0.31658933892870295\n",
      "index: 23\n",
      "eval_count: 24\n",
      "var_params: [ 3.24969108e-01 -4.79979434e-04  8.18115898e-01  9.78426695e-01\n",
      " -2.42273808e+00  5.81041081e-01  2.03589776e+00  1.65739544e+00\n",
      " -1.12344396e+00 -6.78040693e-02  1.21399957e-01 -4.33799142e-01]\n",
      "eval_val: 0.2731740159667179\n",
      "index: 24\n",
      "eval_count: 25\n",
      "var_params: [ 3.31613366e-01 -4.79979434e-04  8.18115898e-01  1.02541387e+00\n",
      " -2.39634653e+00  6.00271131e-01  2.03942904e+00  1.66958589e+00\n",
      " -5.94083858e-01  1.19218084e-01  1.79275154e-01 -4.73131656e-01]\n",
      "eval_val: 0.28305033887865144\n",
      "index: 25\n",
      "eval_count: 26\n",
      "var_params: [ 1.51745620e-01 -4.79979434e-04  8.18115898e-01  9.96508206e-01\n",
      " -2.42269574e+00  5.88582279e-01  2.03418213e+00  1.48006569e+00\n",
      " -9.33026843e-01 -2.29872692e-01  1.34024467e-01 -4.11964926e-01]\n",
      "eval_val: 0.26355951968873825\n",
      "index: 26\n",
      "eval_count: 27\n",
      "var_params: [ 6.77140566e-01 -4.79979434e-04  8.18115898e-01  9.76269489e-01\n",
      " -2.40366982e+00  5.79875229e-01  2.04190072e+00  1.31181992e+00\n",
      " -9.37219400e-01 -2.58842365e-01  1.38086961e-01 -5.06126144e-01]\n",
      "eval_val: 0.3164096156886404\n",
      "index: 27\n",
      "eval_count: 28\n",
      "var_params: [ 2.18778373e-01 -4.79979434e-04  8.18115898e-01  1.14048082e+00\n",
      " -2.27920117e+00  6.46630824e-01  2.07727258e+00  1.87519315e+00\n",
      " -9.35854227e-01 -4.14988625e-01  2.73735078e-01 -1.46911614e-01]\n",
      "eval_val: 0.2994008333370896\n",
      "index: 28\n",
      "eval_count: 29\n",
      "var_params: [ 3.09615585e-01 -4.79979434e-04  8.18115898e-01  9.93676472e-01\n",
      " -2.66453541e+00  5.99367978e-01  2.03904689e+00  1.68524318e+00\n",
      " -9.30489066e-01 -2.54018593e-01  1.66045204e-01 -4.34508542e-01]\n",
      "eval_val: 0.2689673107382885\n",
      "index: 29\n",
      "eval_count: 30\n",
      "var_params: [ 0.32496911  0.12452002  0.8181159   0.97842669 -2.42273808  0.58104108\n",
      "  2.03589776  1.65739544 -0.93633736 -0.23360854  0.12139996 -0.43379914]\n",
      "eval_val: 0.25923633239078087\n",
      "index: 30\n",
      "eval_count: 31\n",
      "var_params: [ 2.73257339e-01 -4.79979434e-04  8.18115898e-01  1.05784636e+00\n",
      " -2.33666243e+00  6.12436447e-01  2.05622064e+00  1.76368096e+00\n",
      " -9.36458137e-01 -3.22293594e-01  1.94188929e-01 -2.91493820e-01]\n",
      "eval_val: 0.26474687079766984\n",
      "index: 31\n"
     ]
    },
    {
     "name": "stdout",
     "output_type": "stream",
     "text": [
      "eval_count: 32\n",
      "var_params: [ 3.25200430e-01 -4.79979434e-04  8.18115898e-01  1.09024612e+00\n",
      " -2.42157599e+00  5.67544751e-01  2.03897362e+00  1.66242776e+00\n",
      " -9.16543274e-01 -2.11271359e-01  9.87661248e-02 -4.72529378e-01]\n",
      "eval_val: 0.2839044865953587\n",
      "index: 32\n",
      "eval_count: 33\n",
      "var_params: [ 3.11798516e-01 -4.79979434e-04  8.18115898e-01  8.77943037e-01\n",
      " -2.40382638e+00  6.12346397e-01  2.03686505e+00  1.68687866e+00\n",
      " -7.84763949e-01 -9.26213077e-02  1.89759079e-01 -3.83830851e-01]\n",
      "eval_val: 0.24362969957326372\n",
      "index: 33\n",
      "eval_count: 34\n",
      "var_params: [ 3.09107231e-01 -4.79979434e-04  8.18115898e-01  8.80071644e-01\n",
      " -2.39681305e+00  7.32213955e-01  2.03914736e+00  1.68981935e+00\n",
      " -7.88549108e-01 -9.68927742e-02  1.72964638e-01 -4.13281231e-01]\n",
      "eval_val: 0.23700402446606503\n",
      "index: 34\n",
      "eval_count: 35\n",
      "var_params: [ 2.26095021e-01 -4.79979434e-04  8.18115898e-01  6.97223733e-01\n",
      " -2.35163580e+00  7.48674522e-01  2.05617579e+00  1.76006112e+00\n",
      " -7.87422555e-01 -1.58737896e-01  2.06138305e-01 -5.11836934e-01]\n",
      "eval_val: 0.2277350047495958\n",
      "index: 35\n",
      "eval_count: 36\n",
      "var_params: [ 3.57572569e-01 -4.79979434e-04  8.18115898e-01  5.75151892e-01\n",
      " -2.32201120e+00  8.22004572e-01  2.06833566e+00  1.65329796e+00\n",
      " -7.75373405e-01 -2.13106228e-01  2.87312938e-01 -4.58728047e-01]\n",
      "eval_val: 0.21623135263714505\n",
      "index: 36\n",
      "eval_count: 37\n",
      "var_params: [ 3.50577255e-01 -4.79979434e-04  8.18115898e-01  5.06347856e-01\n",
      " -2.30910063e+00  8.64373187e-01  2.07527576e+00  1.67470889e+00\n",
      " -9.53611876e-01 -7.45994692e-02  3.33777836e-01 -4.12504310e-01]\n",
      "eval_val: 0.22094653840525663\n",
      "index: 37\n",
      "eval_count: 38\n",
      "var_params: [ 3.57572569e-01 -4.79979434e-04  6.93115898e-01  5.75151892e-01\n",
      " -2.32201120e+00  8.22004572e-01  2.06833566e+00  1.65329796e+00\n",
      " -7.75373405e-01 -2.13106228e-01  2.87312938e-01 -4.58728047e-01]\n",
      "eval_val: 0.21623135263714505\n",
      "index: 38\n",
      "eval_count: 39\n",
      "var_params: [ 3.54414359e-01 -4.79979434e-04  8.18115898e-01  5.46319942e-01\n",
      " -2.31487200e+00  8.41430058e-01  1.82224292e+00  1.66343730e+00\n",
      " -7.69753009e-01 -2.28400847e-01  2.85743933e-01 -4.41465129e-01]\n",
      "eval_val: 0.22446977779241398\n",
      "index: 39\n",
      "eval_count: 40\n",
      "var_params: [ 3.48112097e-01 -4.79979434e-04  8.18115898e-01  5.30810754e-01\n",
      " -2.33944375e+00  8.25821186e-01  2.07963970e+00  1.65923626e+00\n",
      " -7.73766716e-01 -2.25054982e-01  1.94086121e-01 -3.93526328e-01]\n",
      "eval_val: 0.2234998525004511\n",
      "index: 40\n",
      "eval_count: 41\n",
      "var_params: [ 4.17238006e-01 -4.79979434e-04  8.18115898e-01  5.39910743e-01\n",
      " -2.22956788e+00  9.14122974e-01  2.13837780e+00  1.63702410e+00\n",
      " -6.56381188e-01 -1.65235367e-01  3.60534407e-01 -5.75705141e-01]\n",
      "eval_val: 0.21293181249186555\n",
      "index: 41\n",
      "eval_count: 42\n",
      "var_params: [ 4.09400648e-01 -4.79979434e-04  8.18115898e-01  5.13477178e-01\n",
      " -2.43092042e+00  9.78494930e-01  2.16768102e+00  1.66898591e+00\n",
      " -6.15654664e-01 -1.92486337e-01  4.72981153e-01 -5.86995702e-01]\n",
      "eval_val: 0.23210357035929546\n",
      "index: 42\n",
      "eval_count: 43\n",
      "var_params: [ 4.67668169e-01 -4.79979434e-04  8.18115898e-01  5.56723711e-01\n",
      " -2.20391194e+00  9.20619747e-01  2.14509131e+00  1.73613796e+00\n",
      " -6.57675746e-01 -1.93105889e-01  3.77444323e-01 -5.41563187e-01]\n",
      "eval_val: 0.21630406070658678\n",
      "index: 43\n",
      "eval_count: 44\n",
      "var_params: [ 2.72959837e-01 -4.79979434e-04  8.18115898e-01  5.80101149e-01\n",
      " -2.12129602e+00  9.63956261e-01  2.16518622e+00  1.58912256e+00\n",
      " -6.35347047e-01 -2.23730981e-01  4.50715443e-01 -4.71530528e-01]\n",
      "eval_val: 0.2118496211530184\n",
      "index: 44\n",
      "eval_count: 45\n",
      "var_params: [ 0.27295984 -0.12547998  0.8181159   0.58010115 -2.12129602  0.96395626\n",
      "  2.16518622  1.58912256 -0.63534705 -0.22373098  0.45071544 -0.47153053]\n",
      "eval_val: 0.2118496211530184\n",
      "index: 45\n",
      "eval_count: 46\n",
      "var_params: [ 3.09561102e-01 -4.79979434e-04  8.18115898e-01  6.08453741e-01\n",
      " -2.04486296e+00  9.77659506e-01  2.19301903e+00  1.51126069e+00\n",
      " -7.60482326e-01 -3.59728145e-01  4.32490451e-01 -5.85562679e-01]\n",
      "eval_val: 0.21249294661182222\n",
      "index: 46\n",
      "eval_count: 47\n",
      "var_params: [ 2.37751890e-01 -4.79979434e-04  8.18115898e-01  4.97542512e-01\n",
      " -2.10558366e+00  8.96768380e-01  2.17133309e+00  1.61850185e+00\n",
      " -6.32493961e-01 -2.48552691e-01  4.75892043e-01 -4.97012625e-01]\n",
      "eval_val: 0.21778393964660134\n",
      "index: 47\n",
      "eval_count: 48\n",
      "var_params: [ 3.78780257e-01 -4.79979434e-04  8.18115898e-01  6.64747379e-01\n",
      " -2.06462915e+00  8.40111670e-01  2.17912825e+00  1.46604559e+00\n",
      " -6.05319557e-01 -1.59707920e-01  4.97632364e-01 -4.16355224e-01]\n",
      "eval_val: 0.2312495621877153\n",
      "index: 48\n",
      "eval_count: 49\n",
      "var_params: [ 2.24125192e-01 -4.79979434e-04  8.63404476e-01  6.56664509e-01\n",
      " -2.13524556e+00  9.20882965e-01  2.17368487e+00  1.62432618e+00\n",
      " -6.39503861e-01 -2.12260626e-01  4.52778725e-01 -5.14105738e-01]\n",
      "eval_val: 0.22064658242882573\n",
      "index: 49\n",
      "eval_count: 50\n",
      "var_params: [ 2.31152106e-01 -4.79979434e-04  6.94057560e-01  5.50638815e-01\n",
      " -2.03435936e+00  1.09280289e+00  2.15050085e+00  1.60182750e+00\n",
      " -6.21749331e-01 -1.47287356e-01  3.40160778e-01 -5.12837222e-01]\n",
      "eval_val: 0.205740905905263\n",
      "index: 50\n",
      "eval_count: 51\n",
      "var_params: [ 2.23493656e-01 -4.79979434e-04  7.91519402e-01  5.04066083e-01\n",
      " -2.04202776e+00  1.12484929e+00  2.23667841e+00  1.57469570e+00\n",
      " -5.82399385e-01 -2.05114608e-01  1.66695616e-01 -4.31951722e-01]\n",
      "eval_val: 0.22663848279905707\n",
      "index: 51\n",
      "eval_count: 52\n",
      "var_params: [ 2.35437844e-01 -4.79979434e-04  6.77911553e-01  5.70925653e-01\n",
      " -2.03462987e+00  1.08327605e+00  2.08738047e+00  1.59482962e+00\n",
      " -5.41140451e-01 -2.07651653e-01  3.22879806e-01 -5.32075851e-01]\n",
      "eval_val: 0.2008638662771629\n",
      "index: 52\n",
      "eval_count: 53\n",
      "var_params: [ 2.35625399e-01 -4.79979434e-04  7.70173908e-01  5.30151653e-01\n",
      " -1.99969296e+00  1.14987820e+00  1.88458825e+00  1.58433267e+00\n",
      " -6.05038562e-01 -1.78667593e-01  3.40106210e-01 -5.17446960e-01]\n",
      "eval_val: 0.20274244284350162\n",
      "index: 53\n",
      "eval_count: 54\n",
      "var_params: [ 0.24606723  0.04277617  0.67069951  0.56874714 -2.10110053  1.14983206\n",
      "  2.09550103  1.574742   -0.5292768  -0.23144985  0.3693981  -0.49471808]\n",
      "eval_val: 0.21229246544667912\n",
      "index: 54\n",
      "eval_count: 55\n",
      "var_params: [ 0.21038179 -0.13002345  0.57087947  0.56125377 -1.99822615  1.06633051\n",
      "  2.04201661  1.61882676 -0.53812222 -0.1927996   0.32230024 -0.7025608 ]\n",
      "eval_val: 0.1918718091948885\n",
      "index: 55\n",
      "eval_count: 56\n",
      "var_params: [ 0.31150234 -0.13534805  0.48979482  0.60614917 -1.87834094  0.97677594\n",
      "  2.00269121  1.51669378 -0.49559814 -0.11293814  0.34029065 -0.67470328]\n",
      "eval_val: 0.19940416825798246\n",
      "index: 56\n",
      "eval_count: 57\n",
      "var_params: [ 0.25504328 -0.13002345  0.62209288  0.55355509 -1.95006666  1.10667647\n",
      "  2.07340465  1.65189138 -0.4898892  -0.18435912  0.35907835 -0.73680055]\n",
      "eval_val: 0.19722677702144972\n",
      "index: 57\n",
      "eval_count: 58\n",
      "var_params: [ 0.26613005 -0.14892184  0.48882521  0.60618241 -1.95056835  1.05767851\n",
      "  2.00800068  1.79688136 -0.60037407 -0.26794043  0.30436438 -0.63021634]\n",
      "eval_val: 0.2031456894123405\n",
      "index: 58\n",
      "eval_count: 59\n",
      "var_params: [ 0.12740198 -0.1462438   0.57019787  0.58143118 -1.9344446   1.07677237\n",
      "  2.05429438  1.60456274 -0.52467293 -0.22402296  0.3570434  -0.66829028]\n",
      "eval_val: 0.1922496822183753\n",
      "index: 59\n",
      "eval_count: 60\n",
      "var_params: [ 0.13821313 -0.20683468  0.50440954  0.50710725 -2.05023263  1.14424947\n",
      "  2.00805166  1.56981047 -0.6547149  -0.11676647  0.39156699 -0.78937436]\n",
      "eval_val: 0.19760548476045908\n",
      "index: 60\n",
      "eval_count: 61\n",
      "var_params: [ 0.16926837 -0.10549989  0.5950675   0.65135183 -2.01716682  1.0465184\n",
      "  2.02664135  1.6371535  -0.53360302 -0.15557346  0.30560905 -0.74283759]\n",
      "eval_val: 0.20212427870852\n",
      "index: 61\n",
      "eval_count: 62\n",
      "var_params: [ 0.19788691 -0.14679756  0.56620189  0.54812286 -2.01199928  1.06362104\n",
      "  2.03528123  1.63959989 -0.50785245 -0.15937642  0.32406113 -0.67881089]\n",
      "eval_val: 0.19297047457831767\n",
      "index: 62\n",
      "eval_count: 63\n",
      "var_params: [ 0.18124856 -0.07559137  0.56421158  0.48729251 -1.98863874  1.00091589\n",
      "  2.03157511  1.63381568 -0.53460314 -0.21042614  0.34217284 -0.73215797]\n",
      "eval_val: 0.19280785328409172\n",
      "index: 63\n",
      "eval_count: 64\n",
      "var_params: [ 0.20096463 -0.10329837  0.55044684  0.55204402 -1.98011829  1.09588083\n",
      "  2.04426275  1.61984741 -0.53275575 -0.18006997  0.28782243 -0.70633705]\n",
      "eval_val: 0.19178589405638952\n",
      "index: 64\n",
      "eval_count: 65\n",
      "var_params: [ 0.19499775 -0.16514373  0.57735229  0.50778502 -1.97706184  1.0806917\n",
      "  2.05394931  1.58466823 -0.5277045  -0.21934176  0.21075056 -0.70790773]\n",
      "eval_val: 0.19177361837432635\n",
      "index: 65\n"
     ]
    },
    {
     "name": "stdout",
     "output_type": "stream",
     "text": [
      "eval_count: 66\n",
      "var_params: [ 0.19302257 -0.17168985  0.55316298  0.51320427 -1.98369773  1.06695099\n",
      "  2.10772688  1.58925561 -0.52593448 -0.21562828  0.21011781 -0.71695036]\n",
      "eval_val: 0.19212592688771418\n",
      "index: 66\n",
      "eval_count: 67\n",
      "var_params: [ 0.2038599  -0.14698799  0.53532067  0.50363662 -2.03227805  1.11253687\n",
      "  2.04429438  1.5444537  -0.47136154 -0.2834451   0.227991   -0.69904237]\n",
      "eval_val: 0.196801648323856\n",
      "index: 67\n",
      "eval_count: 68\n",
      "var_params: [ 0.18919145 -0.14389801  0.60600379  0.49956362 -1.98910006  1.08316698\n",
      "  2.07348578  1.5485114  -0.52879262 -0.19851629  0.2158759  -0.69269371]\n",
      "eval_val: 0.19283674083734476\n",
      "index: 68\n",
      "eval_count: 69\n",
      "var_params: [ 0.21934531 -0.15730949  0.56899724  0.48573561 -1.96755156  1.08538041\n",
      "  2.06587358  1.62626312 -0.60239535 -0.24491299  0.2007255  -0.62982461]\n",
      "eval_val: 0.19705281295246982\n",
      "index: 69\n",
      "eval_count: 70\n",
      "var_params: [ 0.22084602 -0.15399651  0.5696827   0.52452203 -1.95216526  1.0497983\n",
      "  2.04992565  1.57208919 -0.50591161 -0.21780212  0.20004641 -0.68706635]\n",
      "eval_val: 0.19059172607473268\n",
      "index: 70\n",
      "eval_count: 71\n",
      "var_params: [ 0.23915825 -0.19587457  0.51480746  0.50136653 -1.91526619  1.04602907\n",
      "  2.02315581  1.51299417 -0.53778748 -0.17229277  0.22732944 -0.71098897]\n",
      "eval_val: 0.18751895811133487\n",
      "index: 71\n",
      "eval_count: 72\n",
      "var_params: [ 0.21980109 -0.21765068  0.52942743  0.5011318  -1.91432238  1.05605754\n",
      "  1.98764209  1.53149434 -0.54518537 -0.177263    0.21476198 -0.7410096 ]\n",
      "eval_val: 0.188038773586075\n",
      "index: 72\n",
      "eval_count: 73\n",
      "var_params: [ 0.22544495 -0.18001715  0.49173962  0.57607033 -1.90625627  0.98305119\n",
      "  2.01737995  1.47309102 -0.55556106 -0.13008723  0.19826942 -0.73238988]\n",
      "eval_val: 0.19426896374845876\n",
      "index: 73\n",
      "eval_count: 74\n",
      "var_params: [ 0.26887603 -0.20246517  0.53248373  0.4921392  -1.88008276  1.05810997\n",
      "  2.03700575  1.5181001  -0.51859107 -0.16713587  0.2420586  -0.73018054]\n",
      "eval_val: 0.1886953455541483\n",
      "index: 74\n",
      "eval_count: 75\n",
      "var_params: [ 0.24346313 -0.21146741  0.51541544  0.51558903 -1.92020095  1.06034503\n",
      "  2.02420415  1.51363841 -0.53273405 -0.16176523  0.22311098 -0.69970754]\n",
      "eval_val: 0.18857668325770344\n",
      "index: 75\n",
      "eval_count: 76\n",
      "var_params: [ 0.22480597 -0.20131844  0.5057662   0.46871738 -1.91933471  1.02435037\n",
      "  2.01402778  1.53051671 -0.51089399 -0.14540188  0.23254414 -0.69785646]\n",
      "eval_val: 0.18695160618598333\n",
      "index: 76\n",
      "eval_count: 77\n",
      "var_params: [ 0.24574856 -0.19721755  0.50587622  0.4632265  -1.9351169   1.02214344\n",
      "  2.0107706   1.53510115 -0.51579528 -0.13813432  0.2238673  -0.70515641]\n",
      "eval_val: 0.18759207851408194\n",
      "index: 77\n",
      "eval_count: 78\n",
      "var_params: [ 0.22732884 -0.20493406  0.49662908  0.44562065 -1.89758156  1.02185119\n",
      "  2.00790139  1.54722198 -0.54772515 -0.15840119  0.23519528 -0.66717622]\n",
      "eval_val: 0.18681867710368716\n",
      "index: 78\n",
      "eval_count: 79\n",
      "var_params: [ 0.22264603 -0.19147218  0.486043    0.44096773 -1.8890371   1.03702984\n",
      "  2.00872987  1.54754772 -0.54463048 -0.15265499  0.21818627 -0.66907441]\n",
      "eval_val: 0.18731244761295568\n",
      "index: 79\n",
      "eval_count: 80\n",
      "var_params: [ 0.2293536  -0.20775107  0.4699464   0.42912604 -1.90916709  1.02728606\n",
      "  1.98886121  1.5300258  -0.52811421 -0.19483941  0.25451578 -0.66557497]\n",
      "eval_val: 0.18800582204595143\n",
      "index: 80\n",
      "eval_count: 81\n",
      "var_params: [ 0.22753115 -0.2179169   0.50235773  0.4363145  -1.89612414  1.01456575\n",
      "  2.01582991  1.53558419 -0.54457638 -0.16593739  0.21607738 -0.66549057]\n",
      "eval_val: 0.186737464071656\n",
      "index: 81\n",
      "eval_count: 82\n",
      "var_params: [ 0.21272215 -0.20490207  0.53599441  0.41328558 -1.90533456  1.02761299\n",
      "  2.00909635  1.50556133 -0.55723191 -0.15114615  0.23010108 -0.65663519]\n",
      "eval_val: 0.18715207149389385\n",
      "index: 82\n",
      "eval_count: 83\n",
      "var_params: [ 0.21990735 -0.22573407  0.49654624  0.42734105 -1.90602524  1.02386281\n",
      "  2.03487015  1.54177033 -0.55096767 -0.16640902  0.22210781 -0.67445342]\n",
      "eval_val: 0.18751333862730896\n",
      "index: 83\n",
      "eval_count: 84\n",
      "var_params: [ 0.20965014 -0.21050504  0.49401635  0.45088844 -1.87749257  0.96605618\n",
      "  2.01432028  1.52160974 -0.55764191 -0.15455015  0.21852106 -0.67222691]\n",
      "eval_val: 0.1853134674760654\n",
      "index: 84\n",
      "eval_count: 85\n",
      "var_params: [ 0.19251224 -0.18447528  0.51991702  0.46064555 -1.87883617  0.93870597\n",
      "  2.02227353  1.54454272 -0.54675651 -0.17591652  0.21216994 -0.65757824]\n",
      "eval_val: 0.18640437695620787\n",
      "index: 85\n",
      "eval_count: 86\n",
      "var_params: [ 0.2242473  -0.20202949  0.49095694  0.44916196 -1.87093151  0.96394886\n",
      "  2.03302628  1.51431132 -0.5505069  -0.15129321  0.22709186 -0.66254882]\n",
      "eval_val: 0.18531077806099883\n",
      "index: 86\n",
      "eval_count: 87\n",
      "var_params: [ 0.23538211 -0.21531076  0.50935833  0.43911081 -1.82709791  0.95733644\n",
      "  2.02365367  1.52004503 -0.54252505 -0.14652769  0.24008637 -0.69127389]\n",
      "eval_val: 0.18468061146366027\n",
      "index: 87\n",
      "eval_count: 88\n",
      "var_params: [ 0.22941898 -0.22214756  0.50504307  0.42672211 -1.83042304  0.95040451\n",
      "  2.0194124   1.52889232 -0.52786673 -0.1304168   0.24154802 -0.68177516]\n",
      "eval_val: 0.184186715027159\n",
      "index: 88\n",
      "eval_count: 89\n",
      "var_params: [ 0.22851367 -0.25554109  0.50329964  0.45578442 -1.81074659  0.94165513\n",
      "  2.00835292  1.51740978 -0.52815829 -0.10324922  0.24394398 -0.6598465 ]\n",
      "eval_val: 0.18472335488259958\n",
      "index: 89\n",
      "eval_count: 90\n",
      "var_params: [ 0.24332855 -0.21955492  0.51424165  0.42772401 -1.83685014  0.94594806\n",
      "  2.02315823  1.53840497 -0.53955204 -0.11448433  0.23062392 -0.68569072]\n",
      "eval_val: 0.1847628320142128\n",
      "index: 90\n",
      "eval_count: 91\n",
      "var_params: [ 0.24589176 -0.21956837  0.47973394  0.40482233 -1.83609198  0.92086521\n",
      "  1.98905164  1.51122002 -0.51865111 -0.13855263  0.25256447 -0.69161476]\n",
      "eval_val: 0.1855306537637757\n",
      "index: 91\n",
      "eval_count: 92\n",
      "var_params: [ 0.21984465 -0.20945252  0.4946527   0.42330727 -1.81537325  0.95859268\n",
      "  2.01877017  1.52662691 -0.52404284 -0.12196306  0.2269019  -0.68387896]\n",
      "eval_val: 0.18410165494297465\n",
      "index: 92\n",
      "eval_count: 93\n",
      "var_params: [ 0.2193197  -0.20930548  0.49502683  0.41608389 -1.81090541  0.95899948\n",
      "  2.01679211  1.52833378 -0.5337599  -0.1239186   0.22862328 -0.67591877]\n",
      "eval_val: 0.18384288774305846\n",
      "index: 93\n",
      "eval_count: 94\n",
      "var_params: [ 0.20974482 -0.20273097  0.51203061  0.40895415 -1.81520986  0.96262738\n",
      "  2.0137381   1.51084793 -0.53436026 -0.11382069  0.23587428 -0.67606291]\n",
      "eval_val: 0.18344122986001077\n",
      "index: 94\n",
      "eval_count: 95\n",
      "var_params: [ 0.20944859 -0.20959402  0.51457687  0.40385927 -1.81500049  0.95948839\n",
      "  2.01867191  1.50538265 -0.53312711 -0.11759286  0.22668116 -0.6756912 ]\n",
      "eval_val: 0.18362829012225032\n",
      "index: 95\n",
      "eval_count: 96\n",
      "var_params: [ 0.19317911 -0.20802872  0.50571003  0.40170321 -1.81336367  0.96292441\n",
      "  2.02804711  1.51483967 -0.54246833 -0.10791418  0.24986111 -0.68388021]\n",
      "eval_val: 0.18345030827145076\n",
      "index: 96\n",
      "eval_count: 97\n",
      "var_params: [ 0.21528254 -0.2084252   0.50852685  0.40519688 -1.81753186  0.97421287\n",
      "  2.01251752  1.5086521  -0.53451758 -0.11155025  0.23667864 -0.67776681]\n",
      "eval_val: 0.18349966103249746\n",
      "index: 97\n",
      "eval_count: 98\n",
      "var_params: [ 0.20144299 -0.19852868  0.52622395  0.40192707 -1.80824533  0.9736093\n",
      "  2.01076306  1.52245751 -0.52387888 -0.11870333  0.24332519 -0.66434985]\n",
      "eval_val: 0.18375038665346458\n",
      "index: 98\n",
      "eval_count: 99\n",
      "var_params: [ 0.21705937 -0.1984798   0.51048232  0.40807431 -1.81194855  0.96155468\n",
      "  2.02307471  1.50718786 -0.53079469 -0.11220225  0.24016045 -0.67123224]\n",
      "eval_val: 0.18386421929721936\n",
      "index: 99\n",
      "eval_count: 100\n",
      "var_params: [ 0.20554777 -0.19946653  0.50362016  0.39593848 -1.81660006  0.95256724\n",
      "  1.99138598  1.50545752 -0.53710642 -0.11506881  0.24198904 -0.68152595]\n",
      "eval_val: 0.1839561094574023\n",
      "index: 100\n",
      "eval_count: 101\n",
      "var_params: [ 0.2074226  -0.19582251  0.50862398  0.4055812  -1.82637684  0.96464342\n",
      "  2.01679335  1.51214017 -0.53473061 -0.11758787  0.23324963 -0.67340746]\n",
      "eval_val: 0.1839332552706892\n",
      "index: 101\n",
      "eval_count: 102\n",
      "var_params: [ 0.19886358 -0.21349418  0.50889864  0.42525191 -1.81448157  0.96456288\n",
      "  2.00789593  1.50419511 -0.54041714 -0.10468364  0.23524022 -0.6598257 ]\n",
      "eval_val: 0.18340455133754527\n",
      "index: 102\n",
      "eval_count: 103\n",
      "var_params: [ 0.2016062  -0.21376313  0.51533292  0.42494885 -1.8140072   0.96334557\n",
      "  2.00685396  1.51011501 -0.54669674 -0.09485614  0.23128533 -0.66218412]\n",
      "eval_val: 0.18355060648827\n",
      "index: 103\n",
      "eval_count: 104\n",
      "var_params: [ 0.19672671 -0.210026    0.50648681  0.4249316  -1.8105759   0.96690842\n",
      "  2.00791798  1.50324781 -0.54009228 -0.10326385  0.2315157  -0.66076063]\n",
      "eval_val: 0.18325735477519461\n",
      "index: 104\n"
     ]
    },
    {
     "name": "stdout",
     "output_type": "stream",
     "text": [
      "eval_count: 105\n",
      "var_params: [ 0.19618661 -0.20818698  0.5103728   0.43067173 -1.80595481  0.9712169\n",
      "  2.00755662  1.49960295 -0.54790515 -0.11039023  0.23256335 -0.66587533]\n",
      "eval_val: 0.18337932566757037\n",
      "index: 105\n",
      "eval_count: 106\n",
      "var_params: [ 0.19581792 -0.21055017  0.50811908  0.42911328 -1.81231779  0.96848058\n",
      "  2.01070116  1.5038308  -0.53606229 -0.10220276  0.23063201 -0.66359687]\n",
      "eval_val: 0.1836303974957975\n",
      "index: 106\n",
      "eval_count: 107\n",
      "var_params: [ 0.19447034 -0.21007815  0.5019614   0.42002339 -1.80558178  0.96241535\n",
      "  1.99693042  1.49967777 -0.53968434 -0.10171745  0.23381723 -0.66359289]\n",
      "eval_val: 0.1833549138629935\n",
      "index: 107\n",
      "eval_count: 108\n",
      "var_params: [ 0.19928528 -0.21128937  0.50125887  0.42752193 -1.81097817  0.96448157\n",
      "  2.00881424  1.50456503 -0.54191776 -0.10378871  0.22989946 -0.66277107]\n",
      "eval_val: 0.18347320710497667\n",
      "index: 108\n",
      "eval_count: 109\n",
      "var_params: [ 0.19504804 -0.21274119  0.50649224  0.42262419 -1.80337035  0.97032218\n",
      "  2.00632741  1.51338473 -0.53883291 -0.10830496  0.23101232 -0.65505858]\n",
      "eval_val: 0.18365993860204624\n",
      "index: 109\n",
      "eval_count: 110\n",
      "var_params: [ 0.20084471 -0.20814177  0.50784752  0.4269468  -1.81133621  0.96705779\n",
      "  2.00413067  1.5025785  -0.53813291 -0.10463632  0.22844069 -0.65874971]\n",
      "eval_val: 0.18349164070962756\n",
      "index: 110\n",
      "eval_count: 111\n",
      "var_params: [ 0.19014732 -0.20337106  0.50416429  0.41941923 -1.81869065  0.96901144\n",
      "  2.00815043  1.50221768 -0.54635383 -0.10380375  0.23072526 -0.65771544]\n",
      "eval_val: 0.18407866933974165\n",
      "index: 111\n",
      "eval_count: 112\n",
      "var_params: [ 0.19834136 -0.20602798  0.50500935  0.42708346 -1.81001212  0.96812689\n",
      "  2.00754994  1.50500682 -0.53993513 -0.10121162  0.2365863  -0.65995373]\n",
      "eval_val: 0.18331051806012294\n",
      "index: 112\n",
      "eval_count: 113\n",
      "var_params: [ 0.20107189 -0.21075652  0.50787664  0.42136686 -1.80291627  0.96419773\n",
      "  2.01539234  1.49557407 -0.54026544 -0.10042859  0.23298139 -0.65639022]\n",
      "eval_val: 0.18349746005692005\n",
      "index: 113\n",
      "eval_count: 114\n",
      "var_params: [ 0.19475557 -0.20737779  0.50929483  0.4264896  -1.80942592  0.96134067\n",
      "  2.00833131  1.50538514 -0.54112177 -0.10258189  0.2304289  -0.660522  ]\n",
      "eval_val: 0.18348549879864814\n",
      "index: 114\n",
      "eval_count: 115\n",
      "var_params: [ 0.20095512 -0.21292576  0.51104029  0.42238268 -1.80989619  0.97071811\n",
      "  2.00554488  1.50700242 -0.5465131  -0.0934504   0.22892662 -0.66417866]\n",
      "eval_val: 0.18366191520247996\n",
      "index: 115\n",
      "eval_count: 116\n",
      "var_params: [ 0.1914869  -0.21309014  0.5075034   0.42878453 -1.81023187  0.97046388\n",
      "  2.01020066  1.5007382  -0.52952885 -0.10094644  0.23307287 -0.66767207]\n",
      "eval_val: 0.18382747563764004\n",
      "index: 116\n",
      "eval_count: 117\n",
      "var_params: [ 0.1988841  -0.21165426  0.50066448  0.42703481 -1.81055186  0.96509493\n",
      "  2.00962815  1.50427207 -0.54156119 -0.10383958  0.23000715 -0.66259876]\n",
      "eval_val: 0.18341556891987132\n",
      "index: 117\n",
      "eval_count: 118\n",
      "var_params: [ 0.19534733 -0.21137782  0.50612102  0.42700846 -1.81051525  0.96716927\n",
      "  2.00722291  1.50242766 -0.5407703  -0.10208987  0.23142478 -0.65875867]\n",
      "eval_val: 0.18351753307730495\n",
      "index: 118\n",
      "eval_count: 119\n",
      "var_params: [ 0.19558709 -0.21015874  0.50735442  0.42475453 -1.81047598  0.96830084\n",
      "  2.00956001  1.50284731 -0.53468321 -0.10327811  0.23232155 -0.66568217]\n",
      "eval_val: 0.18343031340555893\n",
      "index: 119\n",
      "eval_count: 120\n",
      "var_params: [ 0.1981903  -0.20985954  0.50671796  0.42341196 -1.80889957  0.96642702\n",
      "  2.0097263   1.5014421  -0.54007625 -0.10320973  0.2320078  -0.65980749]\n",
      "eval_val: 0.18342739968319152\n",
      "index: 120\n",
      "eval_count: 121\n",
      "var_params: [ 0.1966297  -0.21003256  0.50610704  0.42454732 -1.81045272  0.96617011\n",
      "  2.00670849  1.5023515  -0.54020592 -0.10298578  0.23198024 -0.66137773]\n",
      "eval_val: 0.1831941184282613\n",
      "index: 121\n",
      "eval_count: 122\n",
      "var_params: [ 0.19611319 -0.21076728  0.50553996  0.42310124 -1.80868605  0.96641696\n",
      "  2.00513693  1.5042892  -0.53994089 -0.10445172  0.23255756 -0.66109416]\n",
      "eval_val: 0.1834526094108212\n",
      "index: 122\n",
      "eval_count: 123\n",
      "var_params: [ 0.19735639 -0.21066137  0.50670873  0.42453386 -1.8099139   0.96643814\n",
      "  2.00648426  1.50285052 -0.54060186 -0.10182379  0.23174162 -0.66192874]\n",
      "eval_val: 0.1833179703471583\n",
      "index: 123\n",
      "eval_count: 124\n",
      "var_params: [ 0.19599133 -0.20836988  0.50561953  0.42294781 -1.81296587  0.96676601\n",
      "  2.00665495  1.50185178 -0.54153025 -0.1028783   0.23164632 -0.6620779 ]\n",
      "eval_val: 0.18346497578100093\n",
      "index: 124\n",
      "eval_count: 125\n",
      "var_params: [ 0.19646155 -0.20992015  0.50580484  0.4239858  -1.81078266  0.96526536\n",
      "  2.00678675  1.50293388 -0.53935371 -0.10203731  0.23164765 -0.66077943]\n",
      "eval_val: 0.1832915321344298\n",
      "index: 125\n",
      "eval_count: 126\n",
      "var_params: [ 0.19566647 -0.20859956  0.507525    0.42581609 -1.80958483  0.96382842\n",
      "  2.00712572  1.50272644 -0.5410658  -0.10371806  0.23179497 -0.66226977]\n",
      "eval_val: 0.18326260113305756\n",
      "index: 126\n",
      "eval_count: 127\n",
      "var_params: [ 0.19712555 -0.21027351  0.50494525  0.42496287 -1.81060399  0.96599649\n",
      "  2.00740173  1.5031055  -0.5405569  -0.10336371  0.23133045 -0.66182264]\n",
      "eval_val: 0.1834214219720231\n",
      "index: 127\n",
      "eval_count: 128\n",
      "var_params: [ 0.19716335 -0.21037166  0.50520257  0.4251457  -1.81008072  0.96502914\n",
      "  2.00541991  1.49965171 -0.53949444 -0.1027676   0.2335536  -0.66189165]\n",
      "eval_val: 0.18328956838129865\n",
      "index: 128\n",
      "eval_count: 129\n",
      "var_params: [ 0.19606942 -0.21006387  0.5066214   0.42479115 -1.81059133  0.96680994\n",
      "  2.00713208  1.50229864 -0.53886852 -0.10315039  0.23207294 -0.66223834]\n",
      "eval_val: 0.18330806010255035\n",
      "index: 129\n",
      "eval_count: 130\n",
      "var_params: [ 0.19645672 -0.21056018  0.50627921  0.42428561 -1.81050734  0.96595203\n",
      "  2.00666636  1.50202235 -0.54023916 -0.10320688  0.2314037  -0.6614425 ]\n",
      "eval_val: 0.183243655700231\n",
      "index: 130\n",
      "eval_count: 131\n",
      "var_params: [ 0.19711203 -0.2107623   0.50677946  0.42457214 -1.81146866  0.96571824\n",
      "  2.00687077  1.50278316 -0.54028298 -0.10344128  0.23293012 -0.66119865]\n",
      "eval_val: 0.18334588873531796\n",
      "index: 131\n",
      "eval_count: 132\n",
      "var_params: [ 0.19723828 -0.20967897  0.50630237  0.42456928 -1.81055036  0.96616757\n",
      "  2.00635517  1.50237154 -0.53991201 -0.10326556  0.23163448 -0.66135212]\n",
      "eval_val: 0.18327264204925717\n",
      "index: 132\n",
      "eval_count: 133\n",
      "var_params: [ 0.19590561 -0.21001608  0.50623662  0.42560904 -1.81042919  0.96675146\n",
      "  2.00637192  1.50211517 -0.54049916 -0.10272616  0.23185022 -0.66016607]\n",
      "eval_val: 0.18347588207854942\n",
      "index: 133\n",
      "eval_count: 134\n",
      "var_params: [ 0.19705127 -0.20968537  0.50635104  0.42377868 -1.80965062  0.96627801\n",
      "  2.0079323   1.5017659  -0.5402772  -0.10309431  0.23229092 -0.66087071]\n",
      "eval_val: 0.1835605766461149\n",
      "index: 134\n",
      "eval_count: 135\n",
      "var_params: [ 0.19631711 -0.2096491   0.50644746  0.42478363 -1.81023406  0.96557003\n",
      "  2.00668904  1.50248456 -0.54044068 -0.10307004  0.23198104 -0.66168647]\n",
      "eval_val: 0.18330855200743562\n",
      "index: 135\n",
      "eval_count: 136\n",
      "var_params: [ 0.19649633 -0.21003221  0.50618129  0.42435029 -1.81034471  0.9663144\n",
      "  2.00664813  1.50268424 -0.54024346 -0.10316091  0.23194084 -0.66129172]\n",
      "eval_val: 0.18318555778311713\n",
      "index: 136\n",
      "eval_count: 137\n",
      "var_params: [ 0.1964188  -0.21021455  0.50571721  0.42412203 -1.81010985  0.96628048\n",
      "  2.00603395  1.50255659 -0.54011073 -0.1032425   0.23236586 -0.66148801]\n",
      "eval_val: 0.18321886019045297\n",
      "index: 137\n",
      "eval_count: 138\n",
      "var_params: [ 0.19645478 -0.20986317  0.5060909   0.42422742 -1.81063406  0.96644069\n",
      "  2.00664532  1.50253199 -0.54041678 -0.10300243  0.23198688 -0.66141938]\n",
      "eval_val: 0.18324458404821198\n",
      "index: 138\n",
      "eval_count: 139\n",
      "var_params: [ 0.19625702 -0.2100535   0.50653222  0.42395268 -1.8103108   0.9664018\n",
      "  2.00637439  1.50325974 -0.54023258 -0.10349956  0.23157855 -0.6612844 ]\n",
      "eval_val: 0.18334222758701052\n",
      "index: 139\n",
      "time taken: \n",
      "91.859375\n",
      "testing success ratio: 1.0\n"
     ]
    }
   ],
   "source": [
    "start = time.process_time()\n",
    "\n",
    "result = vqc.run(quantum_instance)\n",
    "\n",
    "print(\"time taken: \")\n",
    "print(time.process_time() - start)\n",
    "\n",
    "\n",
    "print(\"testing success ratio: {}\".format(result['testing_accuracy']))"
   ]
  },
  {
   "cell_type": "code",
   "execution_count": 45,
   "metadata": {},
   "outputs": [
    {
     "name": "stdout",
     "output_type": "stream",
     "text": [
      "prediction of datapoints:\n",
      "ground truth: ['A', 'A', 'A', 'A', 'A', 'B', 'B', 'B', 'B', 'B']\n",
      "prediction:   ['A', 'A', 'A', 'A', 'A', 'B', 'B', 'B', 'B', 'B']\n"
     ]
    }
   ],
   "source": [
    "print(\"prediction of datapoints:\")\n",
    "print(\"ground truth: {}\".format(map_label_to_class_name(datapoints[1], vqc.label_to_class)))\n",
    "print(\"prediction:   {}\".format(result['predicted_classes']))"
   ]
  },
  {
   "cell_type": "markdown",
   "metadata": {},
   "source": [
    "As you can see we seem to get a pretty good accuracy, but that is because we have used such a small training and testing set along with the fact that digits `0` and `1` are so far apart making it easy to classify them. Its your turn to play around with the options that you have and create better feature maps, variational circuit, assigning the correct optimization routine, etc. Have fun! "
   ]
  },
  {
   "cell_type": "code",
   "execution_count": 46,
   "metadata": {},
   "outputs": [
    {
     "data": {
      "application/javascript": [
       "window.require && require([\"base/js/namespace\"],function(Jupyter){Jupyter.notebook.save_checkpoint()})"
      ],
      "text/plain": [
       "<IPython.core.display.Javascript object>"
      ]
     },
     "metadata": {},
     "output_type": "display_data"
    },
    {
     "name": "stdout",
     "output_type": "stream",
     "text": [
      "[jovian] Attempting to save notebook..\n",
      "[jovian] Creating a new project \"imvivek-98/vqc-notebook\"\n",
      "[jovian] Uploading notebook..\n",
      "[jovian] Capturing environment..\n",
      "[jovian] Committed successfully! https://jovian.ml/imvivek-98/vqc-notebook\n"
     ]
    },
    {
     "data": {
      "text/plain": [
       "'https://jovian.ml/imvivek-98/vqc-notebook'"
      ]
     },
     "execution_count": 46,
     "metadata": {},
     "output_type": "execute_result"
    }
   ],
   "source": [
    "import jovian\n",
    "jovian.commit(project='vqc-notebook',privacy='private')"
   ]
  },
  {
   "cell_type": "code",
   "execution_count": null,
   "metadata": {},
   "outputs": [],
   "source": []
  }
 ],
 "metadata": {
  "kernelspec": {
   "display_name": "Python 3",
   "language": "python",
   "name": "python3"
  },
  "language_info": {
   "codemirror_mode": {
    "name": "ipython",
    "version": 3
   },
   "file_extension": ".py",
   "mimetype": "text/x-python",
   "name": "python",
   "nbconvert_exporter": "python",
   "pygments_lexer": "ipython3",
   "version": "3.8.8"
  }
 },
 "nbformat": 4,
 "nbformat_minor": 4
}
